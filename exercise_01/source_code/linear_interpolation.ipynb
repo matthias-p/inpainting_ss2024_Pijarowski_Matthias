{
 "cells": [
  {
   "cell_type": "code",
   "execution_count": 30,
   "id": "4c57aabb-a31c-4b33-984f-ada2dbb6ca26",
   "metadata": {},
   "outputs": [],
   "source": [
    "import numpy \n",
    "\n",
    "from PIL import Image\n",
    "import unittest\n",
    "\n",
    "# Die function expects two gray values in the range of 0 bis 255 as x0 und x1. It\n",
    "# creates an image of 1xdiscretization Pixel that interpolates linearly between x0 and \n",
    "# x1 \n",
    "def interpolate_grayscale( x0, x1, discretization = 100 ):\n",
    "    data = numpy.zeros( (1, discretization), dtype=numpy.uint8)\n",
    "    delta = x1 - x0\n",
    "    step = delta / (discretization - 1)\n",
    "    # parts = numpy.linspace(x0, x1, discretization)\n",
    "    for x in range(discretization):\n",
    "        v = x0 + x * step\n",
    "        t = (v - x0) / (x1 - x0)\n",
    "        i = x1 * t + x0 * (1 - t)\n",
    "        data[0][x] = i\n",
    "    return data\n",
    "\n",
    "# The function expects two RGB color values in the range of 0 bis 255 as c0 und c1. It\n",
    "# creates an image of 1xdiscretization Pixel that interpolates linearly between c0 and \n",
    "# c1 \n",
    "def interpolate_rgb( c0, c1, discretization = 100 ):\n",
    "    data = numpy.zeros( (1, discretization, 3), dtype=numpy.uint8) \n",
    "\n",
    "    for c in range(3):\n",
    "        parts = numpy.linspace(c0[c], c1[c], discretization)\n",
    "        for x in range(discretization):\n",
    "            t = (parts[x] - c0[c]) / (c1[c] - c0[c])\n",
    "            i = c1[c] * t + c0[c] * (1 - t)\n",
    "            data[0][x][c] = i\n",
    "    \n",
    "    return data\n",
    "\n",
    "# The function accepts 4 RGB color values in the range of (0,0,0) to (255,255,255) als c0, c1,\n",
    "# c2 und c3. It creates an image of discretizationxdiscretization Pixel that interpolates\n",
    "# linearly between c0 and c1 \n",
    "def bilinear_interpolate_rgb( c0, c1, c2, c3, discretization = 100 ):\n",
    "    data = numpy.zeros( (discretization, discretization, 3), dtype=numpy.uint8) \n",
    "    \n",
    "    interpol_1 = interpolate_rgb(c0, c2, discretization)\n",
    "    interpol_2 = interpolate_rgb(c1, c3, discretization)\n",
    "\n",
    "    for index, (p1, p2) in enumerate(zip(interpol_1[0], interpol_2[0])):\n",
    "        interpol = interpolate_rgb(p1, p2, discretization)\n",
    "        data[:, index] = interpol\n",
    "    \n",
    "    return data\n"
   ]
  },
  {
   "cell_type": "code",
   "execution_count": 28,
   "id": "9230cabc",
   "metadata": {},
   "outputs": [
    {
     "data": {
      "text/plain": [
       "[0.0,\n",
       " 1.1111111111111112,\n",
       " 2.2222222222222223,\n",
       " 3.3333333333333335,\n",
       " 4.444444444444445,\n",
       " 5.555555555555555,\n",
       " 6.666666666666667,\n",
       " 7.777777777777779,\n",
       " 8.88888888888889,\n",
       " 10.0]"
      ]
     },
     "execution_count": 28,
     "metadata": {},
     "output_type": "execute_result"
    }
   ],
   "source": [
    "def test(x, y, n):\n",
    "    step = (y - x) / (n - 1)\n",
    "    return [x + step * i for i in range(n)]\n",
    "\n",
    "test(0, 10, 10)"
   ]
  },
  {
   "cell_type": "code",
   "execution_count": 31,
   "id": "d0e71a58-e49a-4a3a-986d-e18ab262d806",
   "metadata": {},
   "outputs": [
    {
     "name": "stderr",
     "output_type": "stream",
     "text": [
      "test_create_interpolate_grayscale_slice (__main__.Aufgabenblatt1Tests) ... ok\n",
      "test_create_interpolate_rgb_image (__main__.Aufgabenblatt1Tests) ... /tmp/ipykernel_34958/2849529342.py:30: RuntimeWarning: invalid value encountered in scalar divide\n",
      "  t = (parts[x] - c0[c]) / (c1[c] - c0[c])\n",
      "/tmp/ipykernel_34958/2849529342.py:32: RuntimeWarning: invalid value encountered in cast\n",
      "  data[0][x][c] = i\n",
      "/tmp/ipykernel_34958/2849529342.py:30: RuntimeWarning: overflow encountered in scalar subtract\n",
      "  t = (parts[x] - c0[c]) / (c1[c] - c0[c])\n",
      "ok\n",
      "test_create_interpolate_rgb_slice (__main__.Aufgabenblatt1Tests) ... ok\n",
      "test_interpolate_grayscale (__main__.Aufgabenblatt1Tests) ... ok\n",
      "\n",
      "----------------------------------------------------------------------\n",
      "Ran 4 tests in 0.256s\n",
      "\n",
      "OK\n"
     ]
    },
    {
     "data": {
      "text/plain": [
       "<unittest.main.TestProgram at 0x74f2af86f700>"
      ]
     },
     "execution_count": 31,
     "metadata": {},
     "output_type": "execute_result"
    }
   ],
   "source": [
    "import unittest\n",
    "\n",
    "class Aufgabenblatt1Tests(unittest.TestCase):   \n",
    "    def test_create_interpolate_grayscale_slice( self ):\n",
    "        image_data = interpolate_grayscale( 100, 200, discretization = 256 )\n",
    "        image = Image.fromarray( image_data, mode=\"L\" )\n",
    "        image.save(\"interpolate_grayscale.png\")\n",
    "\n",
    "    def test_interpolate_grayscale( self ):\n",
    "        image_data = interpolate_grayscale( 0, 100, discretization = 3 )\n",
    "        self.assertAlmostEqual( image_data[0][0], 0.0 )\n",
    "        self.assertAlmostEqual( image_data[0][1], 50.0 )\n",
    "        self.assertAlmostEqual( image_data[0][2], 100.0 )\n",
    "\n",
    "    # def test_illegal_size( self ):\n",
    "    #     image_data = interpolate_grayscale( 0, 100, discretization = 2 )\n",
    "    #     image_data = interpolate_grayscale( 0, 100, discretization = 1 )\n",
    "    #     image_data = interpolate_grayscale( 0, 100, discretization = -0.21 )\n",
    "    \n",
    "    def test_create_interpolate_rgb_slice( self ):\n",
    "        image_data = interpolate_rgb( (128,128,128), (255,0,0), discretization = 256 )\n",
    "        image = Image.fromarray( image_data, mode=\"RGB\" )\n",
    "        image.save(\"interpolate_rgb.png\")\n",
    "\n",
    "    def test_create_interpolate_rgb_image( self ):\n",
    "        image_data = bilinear_interpolate_rgb( (255,255,255), (128,128,128), (255,0,0), (255, 255, 255), discretization = 256 )\n",
    "        image = Image.fromarray( image_data, mode=\"RGB\" )\n",
    "        image.save(\"bilinear_interpolate_rgb.png\")\n",
    "\n",
    "unittest.main(argv=[''], verbosity=2, exit=False)   "
   ]
  },
  {
   "cell_type": "code",
   "execution_count": null,
   "id": "85962e8c-0e34-43f1-b814-38f1c7ad060d",
   "metadata": {},
   "outputs": [],
   "source": []
  }
 ],
 "metadata": {
  "kernelspec": {
   "display_name": "Python 3 (ipykernel)",
   "language": "python",
   "name": "python3"
  },
  "language_info": {
   "codemirror_mode": {
    "name": "ipython",
    "version": 3
   },
   "file_extension": ".py",
   "mimetype": "text/x-python",
   "name": "python",
   "nbconvert_exporter": "python",
   "pygments_lexer": "ipython3",
   "version": "3.12.3"
  }
 },
 "nbformat": 4,
 "nbformat_minor": 5
}
