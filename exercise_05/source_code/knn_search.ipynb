{
 "cells": [
  {
   "cell_type": "code",
   "execution_count": 7,
   "id": "433aae1f-55f7-49da-a09e-3bd636a021a2",
   "metadata": {
    "scrolled": true
   },
   "outputs": [
    {
     "name": "stdout",
     "output_type": "stream",
     "text": [
      "[(16, 15, 1.0), (17, 13, 2.8284271247461903), (18, 12, 4.242640687119285), (11, 12, 5.0)]\n"
     ]
    },
    {
     "data": {
      "image/png": "[encoded data removed]",
      "text/plain": [
       "<Figure size 1600x800 with 1 Axes>"
      ]
     },
     "metadata": {},
     "output_type": "display_data"
    }
   ],
   "source": [
    "import cv2\n",
    "from matplotlib import pyplot as plt\n",
    "from matplotlib.patches import Rectangle\n",
    "import numpy\n",
    "import numpy as np\n",
    "import math\n",
    "\n",
    "defined      = 0\n",
    "undefined    = 255\n",
    "\n",
    "mask  = cv2.imread(\"data/knn_unittest.png\", cv2.IMREAD_GRAYSCALE )\n",
    "\n",
    "def find_nearest_neighbors_brute_force( coordinate, mask, k, axis=None, Debug=False ):\n",
    "    x_origin,y_origin = coordinate\n",
    "    candidates = []\n",
    "    for y in range(mask.shape[1]):\n",
    "        for x in range(mask.shape[0]):\n",
    "            if x_origin == x and y_origin == y:\n",
    "                continue\n",
    "            if mask[y,x] == defined:\n",
    "                dx = x-x_origin\n",
    "                dy = y-y_origin\n",
    "                distance = numpy.sqrt( dx*dx+dy*dy )\n",
    "                candidates.append( ( x, y, distance ) )\n",
    "    candidates = sorted( candidates, key=lambda x: x[2] )\n",
    "    return candidates[0:k]\n",
    "\n",
    "def display_neightbors( axis, mask, origin, neighbors ):\n",
    "    axis.imshow(mask, cmap='Greys', alpha=0.5)\n",
    "    X = [x for x,_,_ in neighbors ]\n",
    "    Y = [y for _,y,_ in neighbors ]\n",
    "    ox,oy = origin\n",
    "    axis.scatter( x=[ox],y=[oy], c=\"red\" )\n",
    "    axis.scatter( x=X,y=Y )\n",
    "    axis.set_xticks([])\n",
    "    axis.set_yticks([])\n",
    "\n",
    "origin = (15,15)\n",
    "neighbors = find_nearest_neighbors_brute_force( origin, mask, 4, None, True ) \n",
    "print( neighbors )\n",
    "\n",
    "fig,axis = plt.subplots( 1, 1, figsize=(16,8) )\n",
    "display_neightbors( axis, mask, origin, neighbors )\n",
    "plt.savefig(\"knn_search_brute_force.png\")\n",
    "plt.show()"
   ]
  },
  {
   "cell_type": "code",
   "execution_count": 103,
   "id": "5dfb741c",
   "metadata": {},
   "outputs": [],
   "source": [
    "def euclidean_distance(point1: tuple[int, int], point2: tuple[int, int]) -> float:\n",
    "    p1_y, p1_x = point1\n",
    "    p2_y, p2_x = point2\n",
    "\n",
    "    return np.sqrt((p2_y - p1_y) ** 2 + (p2_x - p1_x) ** 2)\n",
    "\n",
    "\n",
    "def find_nearest_neighbours_quadratic(mask: np.ndarray, origin: tuple[int, int], k: int) -> list[tuple[int, int, float]]:\n",
    "    origin_y, origin_x = origin\n",
    "    height, width = mask.shape\n",
    "    processed = set()\n",
    "    neighbours = []\n",
    "\n",
    "    for distance in range(1, mask.shape[0] // 2 + 1):\n",
    "        pixels_to_process = []\n",
    "        tl_y, tl_x = max(origin_y - distance, 0), max(origin_x - distance, 0)\n",
    "        br_y, br_x = min(origin_y + distance, height - 1), min(origin_x + distance, width - 1)\n",
    "\n",
    "        for y in range(tl_y, br_y + 1):\n",
    "            if (y, tl_x) not in processed:\n",
    "                pixels_to_process.append((y, tl_x))\n",
    "            if (y, br_x) not in processed:\n",
    "                pixels_to_process.append((y, br_x))\n",
    "\n",
    "        for x in range(tl_x + 1, br_x):\n",
    "            if (tl_y, x) not in processed:\n",
    "                pixels_to_process.append((tl_y, x))\n",
    "            if (br_y, x) not in processed:\n",
    "                pixels_to_process.append((br_y, x))\n",
    "\n",
    "        for y, x in pixels_to_process:\n",
    "            if mask[y, x] == defined:\n",
    "                distance = euclidean_distance(origin, (y, x))\n",
    "                if len(neighbours) < k:\n",
    "                    neighbours.append((y, x, distance))\n",
    "                elif len(neighbours) == k and distance < neighbours[-1][2]:\n",
    "                    neighbours.pop()\n",
    "                    neighbours.append((y, x, distance))\n",
    "                neighbours = sorted(neighbours, key=lambda tup: tup[2])\n",
    "        processed.update(pixels_to_process)\n",
    "\n",
    "    return neighbours"
   ]
  },
  {
   "cell_type": "code",
   "execution_count": 113,
   "id": "b95fef95",
   "metadata": {},
   "outputs": [
    {
     "name": "stderr",
     "output_type": "stream",
     "text": [
      "test_bruteforce (__main__.TestKNN.test_bruteforce) ... ok\n",
      "test_quadatic (__main__.TestKNN.test_quadatic) ... ok\n",
      "test_quadratic_edge (__main__.TestKNN.test_quadratic_edge) ... ok\n",
      "test_quadratic_middle (__main__.TestKNN.test_quadratic_middle) ... ok\n",
      "\n",
      "----------------------------------------------------------------------\n",
      "Ran 4 tests in 0.006s\n",
      "\n",
      "OK\n"
     ]
    },
    {
     "data": {
      "text/plain": [
       "<unittest.main.TestProgram at 0x7c3981f8ddf0>"
      ]
     },
     "execution_count": 113,
     "metadata": {},
     "output_type": "execute_result"
    }
   ],
   "source": [
    "import unittest\n",
    "\n",
    "class TestKNN(unittest.TestCase):\n",
    "    def make_display(self, mask, origin, neighbours):\n",
    "        fig, axis = plt.subplots( 1, 1, figsize=(16,8) )\n",
    "        axis.imshow(mask, cmap='Greys', alpha=0.5)\n",
    "        X = [x for _, x, _ in neighbours ]\n",
    "        Y = [y for y, _, _ in neighbours ]\n",
    "        oy,ox = origin\n",
    "        axis.scatter( x=[ox],y=[oy], c=\"red\" )\n",
    "        axis.scatter( x=X,y=Y )\n",
    "        axis.set_xticks([])\n",
    "        axis.set_yticks([])\n",
    "        plt.show()\n",
    "\n",
    "    def test_bruteforce(self):\n",
    "        neighbors = find_nearest_neighbors_brute_force( origin, mask, 4, None, True )\n",
    "        neighbors = sorted([(y, x) for y, x, _ in neighbors])\n",
    "        gt = sorted([(16, 15), (17, 13), (18, 12), (11, 12)])\n",
    "\n",
    "        self.assertCountEqual(neighbors, gt)\n",
    "\n",
    "    def test_quadatic(self):\n",
    "        gt = sorted([(15, 16), (13, 17), (12, 18), (12, 11)])\n",
    "\n",
    "        neighbors = find_nearest_neighbours_quadratic(mask, origin, 4)\n",
    "        neighbors_ = sorted([(y, x) for y, x, _ in neighbors])\n",
    "\n",
    "        self.assertCountEqual(neighbors_, gt)\n",
    "        # self.make_display(mask, origin, neighbors)\n",
    "\n",
    "    def test_quadratic_edge(self):\n",
    "        im = np.array([[255, 255, 255, 255, 0, 255, 255, 255, 255],\n",
    "               [255, 0, 255, 255, 255, 255, 255, 0, 255], \n",
    "               [255, 255, 255, 255, 255, 255, 255, 255, 255], \n",
    "               [255, 255, 255, 255, 255, 255, 255, 255, 0], \n",
    "               [0, 255, 255, 255, 255, 255, 255, 255, 255], \n",
    "               [255, 255, 255, 255, 255, 255, 255, 255, 255], \n",
    "               [255, 255, 255, 255, 255, 255, 255, 255, 255], \n",
    "               [255, 0, 255, 255, 255, 255, 255, 0, 255], \n",
    "               [255, 255, 255, 255, 0, 255, 255, 255, 255], \n",
    "               ])\n",
    "        gt = sorted([(3, 8), (1, 7), (7, 7), (0, 4)])\n",
    "        neighbors = find_nearest_neighbours_quadratic(im, (4, 8), 4)\n",
    "        neighbors_ = sorted([(y, x) for y, x, _ in neighbors])\n",
    "\n",
    "        self.assertCountEqual(neighbors_, gt)\n",
    "        # self.make_display(im, (4, 8), neighbors)\n",
    "\n",
    "    def test_quadratic_middle(self):\n",
    "        im = np.array([[255, 255, 255, 255, 0, 255, 255, 255, 255],\n",
    "               [255, 0, 255, 255, 255, 255, 255, 0, 255], \n",
    "               [255, 255, 255, 255, 255, 255, 255, 255, 255], \n",
    "               [255, 255, 255, 255, 255, 255, 255, 255, 0], \n",
    "               [0, 255, 255, 255, 255, 255, 255, 255, 255], \n",
    "               [255, 255, 255, 255, 255, 255, 255, 255, 255], \n",
    "               [255, 255, 255, 255, 255, 255, 255, 255, 255], \n",
    "               [255, 0, 255, 255, 255, 255, 255, 0, 255], \n",
    "               [255, 255, 255, 255, 0, 255, 255, 255, 255], \n",
    "               ])\n",
    "        gt = sorted([(4, 0), (0, 4), (8, 4), (3, 8)])\n",
    "        neighbors = find_nearest_neighbours_quadratic(im, (4, 4), 4)\n",
    "        neighbors_ = sorted([(y, x) for y, x, _ in neighbors])\n",
    "\n",
    "        # self.make_display(im, (4, 4), neighbors)\n",
    "        self.assertCountEqual(neighbors_, gt)\n",
    "\n",
    "unittest.main(argv=[\"\"], verbosity=2, exit=False)"
   ]
  },
  {
   "cell_type": "code",
   "execution_count": 124,
   "id": "86fffd63",
   "metadata": {},
   "outputs": [
    {
     "data": {
      "image/png": "[encoded data removed]",
      "text/plain": [
       "<Figure size 800x800 with 1 Axes>"
      ]
     },
     "metadata": {},
     "output_type": "display_data"
    }
   ],
   "source": [
    "X, Y = [], []\n",
    "radius = 1\n",
    "origin_x, origin_y = 3, 3\n",
    "for theta in range(0, 360, 5):\n",
    "    X.append(radius * math.sin(theta) + origin_x)\n",
    "    Y.append(radius * math.cos(theta) + origin_y)\n",
    "fig, axis = plt.subplots( 1, 1, figsize=(8,8) )    \n",
    "axis.scatter( x=X,y=Y )\n",
    "plt.show()"
   ]
  },
  {
   "cell_type": "code",
   "execution_count": 122,
   "id": "4a9cdb13",
   "metadata": {},
   "outputs": [
    {
     "data": {
      "text/plain": [
       "[0, 2, 4, 6, 8]"
      ]
     },
     "execution_count": 122,
     "metadata": {},
     "output_type": "execute_result"
    }
   ],
   "source": [
    "list(range(0, 10, 2))"
   ]
  }
 ],
 "metadata": {
  "kernelspec": {
   "display_name": "Python 3 (ipykernel)",
   "language": "python",
   "name": "python3"
  },
  "language_info": {
   "codemirror_mode": {
    "name": "ipython",
    "version": 3
   },
   "file_extension": ".py",
   "mimetype": "text/x-python",
   "name": "python",
   "nbconvert_exporter": "python",
   "pygments_lexer": "ipython3",
   "version": "3.12.3"
  }
 },
 "nbformat": 4,
 "nbformat_minor": 5
}
