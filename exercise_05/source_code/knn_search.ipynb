{
 "cells": [
  {
   "cell_type": "code",
   "execution_count": 1,
   "metadata": {},
   "outputs": [],
   "source": [
    "import time\n",
    "\n",
    "import numpy as np\n",
    "import cv2\n",
    "from scipy.spatial import Delaunay\n",
    "import knn\n",
    "\n",
    "import matplotlib.pyplot as plt"
   ]
  },
  {
   "cell_type": "code",
   "execution_count": 2,
   "metadata": {},
   "outputs": [],
   "source": [
    "DEFINED = 0\n",
    "UNDEFINED = 255\n",
    "\n",
    "origin = (15, 15)\n",
    "mask = cv2.imread(\"data/knn_unittest.png\", cv2.IMREAD_GRAYSCALE)"
   ]
  },
  {
   "cell_type": "code",
   "execution_count": 3,
   "metadata": {},
   "outputs": [],
   "source": [
    "def display_neighbors(mask: np.ndarray, origin: tuple, neighbors: list[tuple]):\n",
    "    fig, axis = plt.subplots(1, 1, figsize=(6,6))\n",
    "    axis.imshow(mask, cmap=\"Greys\", alpha=0.5)\n",
    "    axis.scatter(y=[origin[0]], x=[origin[1]], c=\"red\")\n",
    "    axis.scatter(y=[n[0] for n in neighbors], x=[n[1] for n in neighbors])\n",
    "    \n",
    "    axis.set_xticks([])\n",
    "    axis.set_yticks([])\n",
    "\n",
    "    plt.show()"
   ]
  },
  {
   "cell_type": "code",
   "execution_count": 4,
   "metadata": {},
   "outputs": [],
   "source": [
    "def euclidean_distance(point1: tuple[int, int], point2: tuple[int, int]) -> float:\n",
    "    p1_y, p1_x = point1\n",
    "    p2_y, p2_x = point2\n",
    "\n",
    "    return np.sqrt((p2_y - p1_y) ** 2 + (p2_x - p1_x) ** 2)"
   ]
  },
  {
   "cell_type": "code",
   "execution_count": 5,
   "metadata": {},
   "outputs": [
    {
     "data": {
      "image/png": "[encoded data removed]",
      "text/plain": [
       "<Figure size 600x600 with 1 Axes>"
      ]
     },
     "metadata": {},
     "output_type": "display_data"
    }
   ],
   "source": [
    "def nn_bruteforce(mask: np.ndarray, origin: tuple, k: int) -> list[tuple]:\n",
    "    neighbors = []\n",
    "    height, width = mask.shape\n",
    "\n",
    "    for y in range(height):\n",
    "        for x in range(width):\n",
    "            if mask[y, x] == DEFINED:\n",
    "                neighbors.append((y, x, euclidean_distance(origin, (y, x))))\n",
    "                \n",
    "    neighbors = sorted(neighbors, key=lambda item: item[2])\n",
    "    return neighbors[0: k]\n",
    "\n",
    "neighbors = nn_bruteforce(mask, origin, 4)\n",
    "display_neighbors(mask, origin, neighbors)"
   ]
  },
  {
   "cell_type": "code",
   "execution_count": 6,
   "metadata": {},
   "outputs": [
    {
     "data": {
      "image/png": "[encoded data removed]",
      "text/plain": [
       "<Figure size 600x600 with 1 Axes>"
      ]
     },
     "metadata": {},
     "output_type": "display_data"
    }
   ],
   "source": [
    "def nn_bruteforce_numpy(mask: np.ndarray, origin: tuple, k: int) -> list[tuple]:\n",
    "    neighbors = []\n",
    "    candidates = np.argwhere(mask == DEFINED)\n",
    "    for y, x in candidates:\n",
    "        neighbors.append((y, x, euclidean_distance(origin, (y, x))))\n",
    "\n",
    "    neighbors = sorted(neighbors, key=lambda item: item[2])\n",
    "    return neighbors[0: k]\n",
    "\n",
    "neighbors = nn_bruteforce(mask, origin, 4)\n",
    "display_neighbors(mask, origin, neighbors)"
   ]
  },
  {
   "cell_type": "code",
   "execution_count": 7,
   "metadata": {},
   "outputs": [
    {
     "data": {
      "image/png": "[encoded data removed]",
      "text/plain": [
       "<Figure size 600x600 with 1 Axes>"
      ]
     },
     "metadata": {},
     "output_type": "display_data"
    }
   ],
   "source": [
    "def expand(tri: Delaunay, index: int, queue: list, visited: list) -> None:\n",
    "    neighbor_indices = tri.vertex_neighbor_vertices[1][tri.vertex_neighbor_vertices[0][index]: tri.vertex_neighbor_vertices[0][index+1]]\n",
    "    for neighbor_index in neighbor_indices:\n",
    "        if (neighbor_index not in visited):\n",
    "            queue.append(neighbor_index)\n",
    "            visited.append(neighbor_index)\n",
    "\n",
    "\n",
    "def nn_delaunay(mask: np.ndarray, origin: tuple, k: int) -> list[tuple]:\n",
    "    neighbors, queue, visited  = [], [], []\n",
    "    radius = np.inf\n",
    "    tri = Delaunay(np.argwhere(mask == DEFINED), incremental=True)  # do this only once later\n",
    "    tri.add_points([origin])\n",
    "\n",
    "    start_node_index = np.argwhere((tri.points == origin).all(axis=1)).item()\n",
    "    expand(tri, start_node_index, queue, visited)\n",
    "    visited.append(start_node_index)\n",
    "    while queue:\n",
    "        index = queue.pop(0)\n",
    "        \n",
    "        p_y, p_x = tri.points[index]\n",
    "        d = euclidean_distance(origin, (p_y, p_x))\n",
    "        if d > radius:\n",
    "            continue\n",
    "\n",
    "        neighbors.append((p_y, p_x, d))\n",
    "        neighbors = sorted(neighbors, key=lambda item: item[2])\n",
    "        neighbors = neighbors[0: k]\n",
    "        if len(neighbors) == k:\n",
    "            radius = neighbors[-1][2]\n",
    "\n",
    "        expand(tri, index, queue, visited)\n",
    "\n",
    "    # fig, axis = plt.subplots(1, 1, figsize=(6,6))\n",
    "    # axis.imshow(mask, cmap=\"Greys\", alpha=0.5)\n",
    "    # axis.triplot(tri.points[:,1], tri.points[:,0], tri.simplices)\n",
    "    # axis.scatter(y=[origin[0]], x=[origin[1]], c=\"red\")\n",
    "    # plt.show()\n",
    "\n",
    "    return neighbors\n",
    "\n",
    "neighbors = nn_delaunay(mask, origin, 4)\n",
    "display_neighbors(mask, origin, neighbors)"
   ]
  },
  {
   "cell_type": "code",
   "execution_count": 8,
   "metadata": {},
   "outputs": [],
   "source": [
    "# mask = np.random.rand(400 * 400).reshape(400, 400)\n",
    "# mask = np.where(mask < 0.01, 0, 255)\n",
    "# neighbors = nn_delaunay(mask, (200, 200), 4)\n",
    "# display_neighbors(mask, (200, 200), neighbors)"
   ]
  },
  {
   "cell_type": "code",
   "execution_count": 9,
   "metadata": {},
   "outputs": [
    {
     "data": {
      "image/png": "[encoded data removed]",
      "text/plain": [
       "<Figure size 600x600 with 1 Axes>"
      ]
     },
     "metadata": {},
     "output_type": "display_data"
    }
   ],
   "source": [
    "def nn_quadratic(mask: np.ndarray, origin: tuple, k: int) -> list[tuple]:\n",
    "    neighbors = []\n",
    "    origin_y, origin_x = origin\n",
    "    height, width = mask.shape\n",
    "\n",
    "    max_distance = max(origin_y, height - origin_y, origin_x, width - origin_x)\n",
    "\n",
    "    for distance in range(1, max_distance):\n",
    "        y_t, y_b = origin_y - distance, origin_y + distance\n",
    "        x_l, x_r = origin_x - distance, origin_x + distance\n",
    "\n",
    "        for y in range(y_t, y_b + 1):\n",
    "            if 0 <= y < height:\n",
    "                if x_l >= 0 and mask[y, x_l] == DEFINED:\n",
    "                    neighbors.append((y, x_l, euclidean_distance(origin, (y, x_l))))\n",
    "                if x_r < width and mask[y, x_r] == DEFINED:\n",
    "                    neighbors.append((y, x_r, euclidean_distance(origin, (y, x_r))))\n",
    "\n",
    "        for x in range(x_l + 1, x_r):\n",
    "            if 0 <= x < width:\n",
    "                if y_t >= 0 and mask[y_t, x] == DEFINED:\n",
    "                    neighbors.append((y_t, x, euclidean_distance(origin, (y_t, x))))\n",
    "                if y_b < height and mask[y_b, x] == DEFINED:\n",
    "                    neighbors.append((y_b, x, euclidean_distance(origin, (y_b, x))))\n",
    "\n",
    "        if len(neighbors) >= k:\n",
    "            neighbors = sorted(neighbors, key=lambda item: item[2])\n",
    "            neighbors = neighbors[0 :k]\n",
    "            if neighbors[-1][2] < distance:\n",
    "                break\n",
    "\n",
    "    return neighbors\n",
    "\n",
    "neighbors = nn_quadratic(mask, origin, 4)\n",
    "display_neighbors(mask, origin, neighbors)"
   ]
  },
  {
   "cell_type": "code",
   "execution_count": 10,
   "metadata": {},
   "outputs": [
    {
     "data": {
      "image/png": "[encoded data removed]",
      "text/plain": [
       "<Figure size 600x600 with 1 Axes>"
      ]
     },
     "metadata": {},
     "output_type": "display_data"
    }
   ],
   "source": [
    "def nn_circle(mask: np.ndarray, origin: tuple, k: int) -> list[tuple]:\n",
    "    neighbors = set()\n",
    "    origin_y, origin_x = origin\n",
    "    height, width = mask.shape\n",
    "\n",
    "    furthest_pixel = round(max(euclidean_distance(origin, (0, 0)), euclidean_distance(origin, (height, 0)), euclidean_distance(origin, (0, width)), euclidean_distance(origin, (height, width))))\n",
    "\n",
    "    discretization = np.linspace(0, 2, 360) * np.pi\n",
    "    for distance in range(1, furthest_pixel):\n",
    "        Y = np.round(distance * np.cos(discretization) + origin_y).astype(int)\n",
    "        X = np.round(distance * np.sin(discretization) + origin_x).astype(int)\n",
    "\n",
    "        for y, x in zip(Y, X):\n",
    "            if 0 <= y < height and 0 <= x < width and mask[y, x] == DEFINED:\n",
    "                neighbors.add((y, x))\n",
    "                if len(neighbors) == k:\n",
    "                    return list(neighbors)\n",
    "\n",
    "    return list(neighbors)\n",
    "\n",
    "neighbors = nn_circle(mask, origin, 4)\n",
    "display_neighbors(mask, origin, neighbors)"
   ]
  },
  {
   "cell_type": "code",
   "execution_count": 13,
   "metadata": {},
   "outputs": [
    {
     "data": {
      "image/png": "[encoded data removed]",
      "text/plain": [
       "<Figure size 600x600 with 1 Axes>"
      ]
     },
     "metadata": {},
     "output_type": "display_data"
    }
   ],
   "source": [
    "def nn_circle_opt(mask: np.ndarray, origin: tuple, k: int) -> list[tuple]:\n",
    "    height, width = mask.shape\n",
    "\n",
    "    furthest_pixel = round(max(euclidean_distance(origin, (0, 0)), euclidean_distance(origin, (height, 0)), euclidean_distance(origin, (0, width)), euclidean_distance(origin, (height, width))))\n",
    "\n",
    "    discretization = np.linspace(0, 2, 360) * np.pi\n",
    "    neighbors = knn.nn_circular(mask, origin, discretization, furthest_pixel, k)\n",
    "\n",
    "    return list(neighbors)\n",
    "\n",
    "neighbors = nn_circle_opt(mask, origin, 4)\n",
    "display_neighbors(mask, origin, neighbors)"
   ]
  },
  {
   "cell_type": "code",
   "execution_count": 15,
   "metadata": {},
   "outputs": [
    {
     "name": "stderr",
     "output_type": "stream",
     "text": [
      "........\n",
      "----------------------------------------------------------------------\n",
      "Ran 8 tests in 0.015s\n",
      "\n",
      "OK\n"
     ]
    },
    {
     "data": {
      "text/plain": [
       "<unittest.main.TestProgram at 0x74302154eb40>"
      ]
     },
     "execution_count": 15,
     "metadata": {},
     "output_type": "execute_result"
    }
   ],
   "source": [
    "import unittest\n",
    "\n",
    "class TestNN(unittest.TestCase):\n",
    "\n",
    "    def get_default_mask_params(self):\n",
    "        origin = (15, 15)\n",
    "        mask = cv2.imread(\"data/knn_unittest.png\", cv2.IMREAD_GRAYSCALE)\n",
    "        k = 4\n",
    "        gt = [(15, 16), (15, 20), (13, 17), (12, 18), (12, 11)]\n",
    "\n",
    "        return mask, origin, k, gt\n",
    "    \n",
    "    def get_quadratic_mask_params_corner(self):\n",
    "        origin = (15, 15)\n",
    "        mask = np.full((31, 31), 255)\n",
    "        mask[1, 1] = 0\n",
    "        mask[29, 29] = 0\n",
    "        mask[15, 0] = 0\n",
    "        mask[15, 30] = 0\n",
    "        k = 2\n",
    "        gt = [(15, 0), (15, 30)]\n",
    "\n",
    "        return mask, origin, k, gt\n",
    "    \n",
    "    def get_circle_mask_params_corner(self):\n",
    "        origin = (15, 15)\n",
    "        mask = np.full((31, 31), 255)\n",
    "        mask[0, 0] = 0\n",
    "        mask[30, 30] = 0\n",
    "        k = 2\n",
    "        gt = [(0, 0), (30, 30)]\n",
    "\n",
    "        return mask, origin, k, gt\n",
    "\n",
    "    def test_bruteforce_default(self):\n",
    "        mask, origin, k, gt = self.get_default_mask_params()\n",
    "        neighbors = nn_bruteforce(mask, origin, k)\n",
    "        neighbors = [(n[0], n[1]) for n in neighbors]\n",
    "        self.assertTrue(set(gt).issuperset(set(neighbors)))\n",
    "\n",
    "    def test_delaunay_default(self):\n",
    "        mask, origin, k, gt = self.get_default_mask_params()\n",
    "        neighbors = nn_delaunay(mask, origin, k)\n",
    "        neighbors = [(n[0], n[1]) for n in neighbors]\n",
    "        self.assertTrue(set(gt).issuperset(set(neighbors)))\n",
    "\n",
    "    def test_quadratic_default(self):\n",
    "        mask, origin, k, gt = self.get_default_mask_params()\n",
    "        neighbors = nn_quadratic(mask, origin, k)\n",
    "        neighbors = [(n[0], n[1]) for n in neighbors]\n",
    "        self.assertTrue(set(gt).issuperset(set(neighbors)))\n",
    "\n",
    "    def test_circle_default(self):\n",
    "        mask, origin, k, gt = self.get_default_mask_params()\n",
    "        neighbors = nn_circle(mask, origin, k)\n",
    "        neighbors = [(n[0], n[1]) for n in neighbors]\n",
    "        self.assertTrue(set(gt).issuperset(set(neighbors)))\n",
    "\n",
    "    def test_circle_opt_default(self):\n",
    "        mask, origin, k, gt = self.get_default_mask_params()\n",
    "        neighbors = nn_circle_opt(mask, origin, k)\n",
    "        neighbors = [(n[0], n[1]) for n in neighbors]\n",
    "        self.assertTrue(set(gt).issuperset(set(neighbors)))\n",
    "\n",
    "    def test_quadratic_corner(self):\n",
    "        mask, origin, k, gt = self.get_quadratic_mask_params_corner()\n",
    "        neighbors = nn_quadratic(mask, origin, k)\n",
    "        neighbors = [(n[0], n[1]) for n in neighbors]\n",
    "        self.assertTrue(set(gt).issuperset(set(neighbors)))\n",
    "\n",
    "    def test_circle_corner(self):\n",
    "        mask, origin, k, gt = self.get_circle_mask_params_corner()\n",
    "        neighbors = nn_circle(mask, origin, k)\n",
    "        neighbors = [(n[0], n[1]) for n in neighbors]\n",
    "        self.assertTrue(set(gt).issuperset(set(neighbors)))\n",
    "\n",
    "    def test_circle_opt_corner(self):\n",
    "        mask, origin, k, gt = self.get_circle_mask_params_corner()\n",
    "        neighbors = nn_circle_opt(mask, origin, k)\n",
    "        neighbors = [(n[0], n[1]) for n in neighbors]\n",
    "        self.assertTrue(set(gt).issuperset(set(neighbors)))\n",
    "\n",
    "\n",
    "unittest.main(argv=[\"\"], verbosity=1, exit=False)"
   ]
  },
  {
   "cell_type": "code",
   "execution_count": 16,
   "metadata": {},
   "outputs": [],
   "source": [
    "%load_ext line_profiler"
   ]
  },
  {
   "cell_type": "code",
   "execution_count": 17,
   "metadata": {},
   "outputs": [],
   "source": [
    "def test_nn_general(shape, fill_factor, k,  nn_f):\n",
    "    mask = np.random.rand(shape[0] * shape[1]).reshape(shape)\n",
    "    mask = np.where(mask < fill_factor, 0, 255)\n",
    "    origin = (shape[0] // 2, shape[1] // 2)\n",
    "    t1 = time.time()\n",
    "    nn_f(mask, origin, k)\n",
    "    print(f\"{nn_f}: {time.time() - t1}; {shape} - {fill_factor}\")"
   ]
  },
  {
   "cell_type": "code",
   "execution_count": 33,
   "metadata": {},
   "outputs": [
    {
     "name": "stdout",
     "output_type": "stream",
     "text": [
      "<function nn_bruteforce at 0x79136c1789a0>: 0.0284271240234375; (400, 400) - 0.001\n",
      "<function nn_bruteforce at 0x79136c1789a0>: 0.026180744171142578; (400, 400) - 0.01\n",
      "<function nn_bruteforce at 0x79136c1789a0>: 0.04604339599609375; (400, 400) - 0.1\n",
      "<function nn_bruteforce at 0x79136c1789a0>: 0.08840155601501465; (400, 400) - 0.25\n",
      "<function nn_bruteforce at 0x79136c1789a0>: 0.1410977840423584; (400, 400) - 0.5\n",
      "<function nn_bruteforce at 0x79136c1789a0>: 0.13036465644836426; (1000, 1000) - 0.001\n",
      "<function nn_bruteforce at 0x79136c1789a0>: 0.14449644088745117; (1000, 1000) - 0.01\n",
      "<function nn_bruteforce at 0x79136c1789a0>: 0.26801562309265137; (1000, 1000) - 0.1\n",
      "<function nn_bruteforce at 0x79136c1789a0>: 0.5057053565979004; (1000, 1000) - 0.25\n",
      "<function nn_bruteforce at 0x79136c1789a0>: 0.9204318523406982; (1000, 1000) - 0.5\n",
      "<function nn_bruteforce at 0x79136c1789a0>: 0.4778709411621094; (2000, 2000) - 0.001\n",
      "<function nn_bruteforce at 0x79136c1789a0>: 0.5631203651428223; (2000, 2000) - 0.01\n",
      "<function nn_bruteforce at 0x79136c1789a0>: 1.1511900424957275; (2000, 2000) - 0.1\n",
      "<function nn_bruteforce at 0x79136c1789a0>: 2.103017568588257; (2000, 2000) - 0.25\n",
      "<function nn_bruteforce at 0x79136c1789a0>: 3.825791835784912; (2000, 2000) - 0.5\n"
     ]
    }
   ],
   "source": [
    "for shape in [(400, 400), (1000, 1000), (2000, 2000)]:\n",
    "    for fill_factor in [0.001, 0.01, 0.1, 0.25, 0.5]:\n",
    "        test_nn_general(shape, fill_factor, 10, nn_bruteforce)"
   ]
  },
  {
   "cell_type": "code",
   "execution_count": 34,
   "metadata": {},
   "outputs": [
    {
     "name": "stdout",
     "output_type": "stream",
     "text": [
      "<function nn_bruteforce_numpy at 0x79136c1dfba0>: 0.0012433528900146484; (400, 400) - 0.001\n",
      "<function nn_bruteforce_numpy at 0x79136c1dfba0>: 0.0051422119140625; (400, 400) - 0.01\n",
      "<function nn_bruteforce_numpy at 0x79136c1dfba0>: 0.03774714469909668; (400, 400) - 0.1\n",
      "<function nn_bruteforce_numpy at 0x79136c1dfba0>: 0.08663654327392578; (400, 400) - 0.25\n",
      "<function nn_bruteforce_numpy at 0x79136c1dfba0>: 0.18125128746032715; (400, 400) - 0.5\n",
      "<function nn_bruteforce_numpy at 0x79136c1dfba0>: 0.004316806793212891; (1000, 1000) - 0.001\n",
      "<function nn_bruteforce_numpy at 0x79136c1dfba0>: 0.02398538589477539; (1000, 1000) - 0.01\n",
      "<function nn_bruteforce_numpy at 0x79136c1dfba0>: 0.2292952537536621; (1000, 1000) - 0.1\n",
      "<function nn_bruteforce_numpy at 0x79136c1dfba0>: 0.6056149005889893; (1000, 1000) - 0.25\n",
      "<function nn_bruteforce_numpy at 0x79136c1dfba0>: 1.1970953941345215; (1000, 1000) - 0.5\n",
      "<function nn_bruteforce_numpy at 0x79136c1dfba0>: 0.01681804656982422; (2000, 2000) - 0.001\n",
      "<function nn_bruteforce_numpy at 0x79136c1dfba0>: 0.09635567665100098; (2000, 2000) - 0.01\n",
      "<function nn_bruteforce_numpy at 0x79136c1dfba0>: 0.9613263607025146; (2000, 2000) - 0.1\n",
      "<function nn_bruteforce_numpy at 0x79136c1dfba0>: 2.5265724658966064; (2000, 2000) - 0.25\n",
      "<function nn_bruteforce_numpy at 0x79136c1dfba0>: 5.147004842758179; (2000, 2000) - 0.5\n"
     ]
    }
   ],
   "source": [
    "for shape in [(400, 400), (1000, 1000), (2000, 2000)]:\n",
    "    for fill_factor in [0.001, 0.01, 0.1, 0.25, 0.5]:\n",
    "        test_nn_general(shape, fill_factor, 10, nn_bruteforce_numpy)"
   ]
  },
  {
   "cell_type": "code",
   "execution_count": 35,
   "metadata": {},
   "outputs": [
    {
     "name": "stdout",
     "output_type": "stream",
     "text": [
      "<function nn_delaunay at 0x79136c1dfd80>: 0.0020062923431396484; (400, 400) - 0.001\n",
      "<function nn_delaunay at 0x79136c1dfd80>: 0.006869792938232422; (400, 400) - 0.01\n",
      "<function nn_delaunay at 0x79136c1dfd80>: 0.09511685371398926; (400, 400) - 0.1\n",
      "<function nn_delaunay at 0x79136c1dfd80>: 0.23966121673583984; (400, 400) - 0.25\n",
      "<function nn_delaunay at 0x79136c1dfd80>: 0.7039706707000732; (400, 400) - 0.5\n",
      "<function nn_delaunay at 0x79136c1dfd80>: 0.005733489990234375; (1000, 1000) - 0.001\n",
      "<function nn_delaunay at 0x79136c1dfd80>: 0.040587663650512695; (1000, 1000) - 0.01\n",
      "<function nn_delaunay at 0x79136c1dfd80>: 0.7570219039916992; (1000, 1000) - 0.1\n",
      "<function nn_delaunay at 0x79136c1dfd80>: 2.5285494327545166; (1000, 1000) - 0.25\n",
      "<function nn_delaunay at 0x79136c1dfd80>: 5.877891778945923; (1000, 1000) - 0.5\n",
      "<function nn_delaunay at 0x79136c1dfd80>: 0.023772716522216797; (2000, 2000) - 0.001\n",
      "<function nn_delaunay at 0x79136c1dfd80>: 0.17784428596496582; (2000, 2000) - 0.01\n",
      "<function nn_delaunay at 0x79136c1dfd80>: 3.758655309677124; (2000, 2000) - 0.1\n",
      "<function nn_delaunay at 0x79136c1dfd80>: 11.394722700119019; (2000, 2000) - 0.25\n",
      "<function nn_delaunay at 0x79136c1dfd80>: 24.913126468658447; (2000, 2000) - 0.5\n"
     ]
    }
   ],
   "source": [
    "for shape in [(400, 400), (1000, 1000), (2000, 2000)]:\n",
    "    for fill_factor in [0.001, 0.01, 0.1, 0.25, 0.5]:\n",
    "        test_nn_general(shape, fill_factor, 10, nn_delaunay)"
   ]
  },
  {
   "cell_type": "code",
   "execution_count": 36,
   "metadata": {},
   "outputs": [
    {
     "name": "stdout",
     "output_type": "stream",
     "text": [
      "<function nn_quadratic at 0x79136ad70680>: 0.001970052719116211; (400, 400) - 0.001\n",
      "<function nn_quadratic at 0x79136ad70680>: 0.00035452842712402344; (400, 400) - 0.01\n",
      "<function nn_quadratic at 0x79136ad70680>: 0.0001068115234375; (400, 400) - 0.1\n",
      "<function nn_quadratic at 0x79136ad70680>: 0.00011491775512695312; (400, 400) - 0.25\n",
      "<function nn_quadratic at 0x79136ad70680>: 8.654594421386719e-05; (400, 400) - 0.5\n",
      "<function nn_quadratic at 0x79136ad70680>: 0.0016314983367919922; (1000, 1000) - 0.001\n",
      "<function nn_quadratic at 0x79136ad70680>: 0.0003733634948730469; (1000, 1000) - 0.01\n",
      "<function nn_quadratic at 0x79136ad70680>: 0.00011897087097167969; (1000, 1000) - 0.1\n",
      "<function nn_quadratic at 0x79136ad70680>: 4.935264587402344e-05; (1000, 1000) - 0.25\n",
      "<function nn_quadratic at 0x79136ad70680>: 8.487701416015625e-05; (1000, 1000) - 0.5\n",
      "<function nn_quadratic at 0x79136ad70680>: 0.0018970966339111328; (2000, 2000) - 0.001\n",
      "<function nn_quadratic at 0x79136ad70680>: 0.00041294097900390625; (2000, 2000) - 0.01\n",
      "<function nn_quadratic at 0x79136ad70680>: 8.726119995117188e-05; (2000, 2000) - 0.1\n",
      "<function nn_quadratic at 0x79136ad70680>: 9.179115295410156e-05; (2000, 2000) - 0.25\n",
      "<function nn_quadratic at 0x79136ad70680>: 8.296966552734375e-05; (2000, 2000) - 0.5\n"
     ]
    }
   ],
   "source": [
    "for shape in [(400, 400), (1000, 1000), (2000, 2000)]:\n",
    "    for fill_factor in [0.001, 0.01, 0.1, 0.25, 0.5]:\n",
    "        test_nn_general(shape, fill_factor, 10, nn_quadratic)"
   ]
  },
  {
   "cell_type": "code",
   "execution_count": 37,
   "metadata": {},
   "outputs": [
    {
     "name": "stdout",
     "output_type": "stream",
     "text": [
      "<function nn_circle at 0x79136ad5bc40>: 0.010855436325073242; (400, 400) - 0.001\n",
      "<function nn_circle at 0x79136ad5bc40>: 0.004110574722290039; (400, 400) - 0.01\n",
      "<function nn_circle at 0x79136ad5bc40>: 0.0009670257568359375; (400, 400) - 0.1\n",
      "<function nn_circle at 0x79136ad5bc40>: 0.0006577968597412109; (400, 400) - 0.25\n",
      "<function nn_circle at 0x79136ad5bc40>: 0.0007066726684570312; (400, 400) - 0.5\n",
      "<function nn_circle at 0x79136ad5bc40>: 0.010342121124267578; (1000, 1000) - 0.001\n",
      "<function nn_circle at 0x79136ad5bc40>: 0.0037093162536621094; (1000, 1000) - 0.01\n",
      "<function nn_circle at 0x79136ad5bc40>: 0.0008401870727539062; (1000, 1000) - 0.1\n",
      "<function nn_circle at 0x79136ad5bc40>: 0.00049591064453125; (1000, 1000) - 0.25\n",
      "<function nn_circle at 0x79136ad5bc40>: 0.0004456043243408203; (1000, 1000) - 0.5\n",
      "<function nn_circle at 0x79136ad5bc40>: 0.01018834114074707; (2000, 2000) - 0.001\n",
      "<function nn_circle at 0x79136ad5bc40>: 0.003976583480834961; (2000, 2000) - 0.01\n",
      "<function nn_circle at 0x79136ad5bc40>: 0.0008754730224609375; (2000, 2000) - 0.1\n",
      "<function nn_circle at 0x79136ad5bc40>: 0.0005519390106201172; (2000, 2000) - 0.25\n",
      "<function nn_circle at 0x79136ad5bc40>: 0.0004298686981201172; (2000, 2000) - 0.5\n"
     ]
    }
   ],
   "source": [
    "for shape in [(400, 400), (1000, 1000), (2000, 2000)]:\n",
    "    for fill_factor in [0.001, 0.01, 0.1, 0.25, 0.5]:\n",
    "        test_nn_general(shape, fill_factor, 10, nn_circle)"
   ]
  },
  {
   "cell_type": "code",
   "execution_count": 18,
   "metadata": {},
   "outputs": [
    {
     "name": "stdout",
     "output_type": "stream",
     "text": [
      "<function nn_circle_opt at 0x743016dab880>: 0.0002906322479248047; (400, 400) - 0.001\n",
      "<function nn_circle_opt at 0x743016dab880>: 0.00018787384033203125; (400, 400) - 0.01\n",
      "<function nn_circle_opt at 0x743016dab880>: 9.512901306152344e-05; (400, 400) - 0.1\n",
      "<function nn_circle_opt at 0x743016dab880>: 7.581710815429688e-05; (400, 400) - 0.25\n",
      "<function nn_circle_opt at 0x743016dab880>: 8.96453857421875e-05; (400, 400) - 0.5\n",
      "<function nn_circle_opt at 0x743016dab880>: 0.00028204917907714844; (1000, 1000) - 0.001\n",
      "<function nn_circle_opt at 0x743016dab880>: 0.00015854835510253906; (1000, 1000) - 0.01\n",
      "<function nn_circle_opt at 0x743016dab880>: 9.417533874511719e-05; (1000, 1000) - 0.1\n",
      "<function nn_circle_opt at 0x743016dab880>: 6.532669067382812e-05; (1000, 1000) - 0.25\n",
      "<function nn_circle_opt at 0x743016dab880>: 6.604194641113281e-05; (1000, 1000) - 0.5\n",
      "<function nn_circle_opt at 0x743016dab880>: 0.0002295970916748047; (2000, 2000) - 0.001\n",
      "<function nn_circle_opt at 0x743016dab880>: 0.00011420249938964844; (2000, 2000) - 0.01\n",
      "<function nn_circle_opt at 0x743016dab880>: 0.00010895729064941406; (2000, 2000) - 0.1\n",
      "<function nn_circle_opt at 0x743016dab880>: 8.654594421386719e-05; (2000, 2000) - 0.25\n",
      "<function nn_circle_opt at 0x743016dab880>: 9.226799011230469e-05; (2000, 2000) - 0.5\n"
     ]
    }
   ],
   "source": [
    "for shape in [(400, 400), (1000, 1000), (2000, 2000)]:\n",
    "    for fill_factor in [0.001, 0.01, 0.1, 0.25, 0.5]:\n",
    "        test_nn_general(shape, fill_factor, 10, nn_circle_opt)"
   ]
  },
  {
   "cell_type": "code",
   "execution_count": 19,
   "metadata": {},
   "outputs": [],
   "source": [
    "mask = np.random.rand(1000 * 1000).reshape((1000, 1000))\n",
    "mask = np.where(mask < 0.01, 0, 255)\n",
    "origin = (500, 500)\n",
    "k = 4"
   ]
  },
  {
   "cell_type": "code",
   "execution_count": 121,
   "metadata": {},
   "outputs": [
    {
     "name": "stdout",
     "output_type": "stream",
     "text": [
      "Timer unit: 1e-09 s\n",
      "\n",
      "Total time: 0.404798 s\n",
      "File: /tmp/ipykernel_40439/1595391075.py\n",
      "Function: nn_bruteforce at line 1\n",
      "\n",
      "Line #      Hits         Time  Per Hit   % Time  Line Contents\n",
      "==============================================================\n",
      "     1                                           def nn_bruteforce(mask: np.ndarray, origin: tuple, k: int) -> list[tuple]:\n",
      "     2         1        962.0    962.0      0.0      neighbors = []\n",
      "     3         1       2394.0   2394.0      0.0      height, width = mask.shape\n",
      "     4                                           \n",
      "     5      1001     128756.0    128.6      0.0      for y in range(height):\n",
      "     6   1001000  136473792.0    136.3     33.7          for x in range(width):\n",
      "     7   1000000  246849363.0    246.8     61.0              if mask[y, x] == DEFINED:\n",
      "     8     10186   17682635.0   1736.0      4.4                  neighbors.append((y, x, euclidean_distance(origin, (y, x))))\n",
      "     9                                                           \n",
      "    10         1    3657921.0    4e+06      0.9      neighbors = sorted(neighbors, key=lambda item: item[2])\n",
      "    11         1       1783.0   1783.0      0.0      return neighbors[0: k]"
     ]
    }
   ],
   "source": [
    "%lprun -f nn_bruteforce nn_bruteforce(mask, origin, k)"
   ]
  },
  {
   "cell_type": "code",
   "execution_count": 122,
   "metadata": {},
   "outputs": [
    {
     "name": "stdout",
     "output_type": "stream",
     "text": [
      "Timer unit: 1e-09 s\n",
      "\n",
      "Total time: 0.042119 s\n",
      "File: /tmp/ipykernel_40439/2638980425.py\n",
      "Function: nn_bruteforce_numpy at line 1\n",
      "\n",
      "Line #      Hits         Time  Per Hit   % Time  Line Contents\n",
      "==============================================================\n",
      "     1                                           def nn_bruteforce_numpy(mask: np.ndarray, origin: tuple, k: int) -> list[tuple]:\n",
      "     2         1        471.0    471.0      0.0      neighbors = []\n",
      "     3         1    2158867.0    2e+06      5.1      candidates = np.argwhere(mask == DEFINED)\n",
      "     4     10187   11173888.0   1096.9     26.5      for y, x in candidates:\n",
      "     5     10186   22751678.0   2233.6     54.0          neighbors.append((y, x, euclidean_distance(origin, (y, x))))\n",
      "     6                                           \n",
      "     7         1    6032401.0    6e+06     14.3      neighbors = sorted(neighbors, key=lambda item: item[2])\n",
      "     8         1       1743.0   1743.0      0.0      return neighbors[0: k]"
     ]
    }
   ],
   "source": [
    "\n",
    "%lprun -f nn_bruteforce_numpy nn_bruteforce_numpy(mask, origin, k)"
   ]
  },
  {
   "cell_type": "code",
   "execution_count": 123,
   "metadata": {},
   "outputs": [
    {
     "name": "stdout",
     "output_type": "stream",
     "text": [
      "Timer unit: 1e-09 s\n",
      "\n",
      "Total time: 0.0553866 s\n",
      "File: /tmp/ipykernel_40439/806411042.py\n",
      "Function: nn_delaunay at line 9\n",
      "\n",
      "Line #      Hits         Time  Per Hit   % Time  Line Contents\n",
      "==============================================================\n",
      "     9                                           def nn_delaunay(mask: np.ndarray, origin: tuple, k: int) -> list[tuple]:\n",
      "    10         1        761.0    761.0      0.0      neighbors, queue, visited  = [], [], []\n",
      "    11         1       1032.0   1032.0      0.0      radius = np.inf\n",
      "    12         1   48096680.0    5e+07     86.8      tri = Delaunay(np.argwhere(mask == DEFINED), incremental=True)  # do this only once later\n",
      "    13         1    4903570.0    5e+06      8.9      tri.add_points([origin])\n",
      "    14                                           \n",
      "    15         1     231513.0 231513.0      0.4      start_node_index = np.argwhere((tri.points == origin).all(axis=1)).item()\n",
      "    16         1    1968261.0    2e+06      3.6      expand(tri, start_node_index, queue, visited)\n",
      "    17         1        221.0    221.0      0.0      visited.append(start_node_index)\n",
      "    18        22       4517.0    205.3      0.0      while queue:\n",
      "    19        21       3737.0    178.0      0.0          index = queue.pop(0)\n",
      "    20                                                   \n",
      "    21        21      22183.0   1056.3      0.0          p_y, p_x = tri.points[index]\n",
      "    22        21      42130.0   2006.2      0.1          d = euclidean_distance(origin, (p_y, p_x))\n",
      "    23        21       4659.0    221.9      0.0          if d > radius:\n",
      "    24        13       1553.0    119.5      0.0              continue\n",
      "    25                                           \n",
      "    26         8       1654.0    206.8      0.0          neighbors.append((p_y, p_x, d))\n",
      "    27         8      13074.0   1634.2      0.0          neighbors = sorted(neighbors, key=lambda item: item[2])\n",
      "    28         8       2324.0    290.5      0.0          neighbors = neighbors[0: k]\n",
      "    29         8       2086.0    260.8      0.0          if len(neighbors) == k:\n",
      "    30         5       1252.0    250.4      0.0              radius = neighbors[-1][2]\n",
      "    31                                           \n",
      "    32         8      84498.0  10562.2      0.2          expand(tri, index, queue, visited)\n",
      "    33                                           \n",
      "    34                                               # fig, axis = plt.subplots(1, 1, figsize=(6,6))\n",
      "    35                                               # axis.imshow(mask, cmap=\"Greys\", alpha=0.5)\n",
      "    36                                               # axis.triplot(tri.points[:,1], tri.points[:,0], tri.simplices)\n",
      "    37                                               # axis.scatter(y=[origin[0]], x=[origin[1]], c=\"red\")\n",
      "    38                                               # plt.show()\n",
      "    39                                           \n",
      "    40         1        931.0    931.0      0.0      return neighbors"
     ]
    }
   ],
   "source": [
    "%lprun -f nn_delaunay nn_delaunay(mask, origin, k)"
   ]
  },
  {
   "cell_type": "code",
   "execution_count": 124,
   "metadata": {},
   "outputs": [
    {
     "name": "stdout",
     "output_type": "stream",
     "text": [
      "Timer unit: 1e-09 s\n",
      "\n",
      "Total time: 0.000837343 s\n",
      "File: /tmp/ipykernel_40439/3799269253.py\n",
      "Function: nn_quadratic at line 1\n",
      "\n",
      "Line #      Hits         Time  Per Hit   % Time  Line Contents\n",
      "==============================================================\n",
      "     1                                           def nn_quadratic(mask: np.ndarray, origin: tuple, k: int) -> list[tuple]:\n",
      "     2         1       1022.0   1022.0      0.1      neighbors = []\n",
      "     3         1        661.0    661.0      0.1      origin_y, origin_x = origin\n",
      "     4         1       2214.0   2214.0      0.3      height, width = mask.shape\n",
      "     5                                           \n",
      "     6         1       2234.0   2234.0      0.3      max_distance = max(origin_y, height - origin_y, origin_x, width - origin_x)\n",
      "     7                                           \n",
      "     8        13       4917.0    378.2      0.6      for distance in range(1, max_distance):\n",
      "     9        13       4922.0    378.6      0.6          y_t, y_b = origin_y - distance, origin_y + distance\n",
      "    10        13       4139.0    318.4      0.5          x_l, x_r = origin_x - distance, origin_x + distance\n",
      "    11                                           \n",
      "    12       208      70803.0    340.4      8.5          for y in range(y_t, y_b + 1):\n",
      "    13       195      59460.0    304.9      7.1              if 0 <= y < height:\n",
      "    14       195     135515.0    694.9     16.2                  if x_l >= 0 and mask[y, x_l] == DEFINED:\n",
      "    15         3      49913.0  16637.7      6.0                      neighbors.append((y, x_l, euclidean_distance(origin, (y, x_l))))\n",
      "    16       195     134326.0    688.9     16.0                  if x_r < width and mask[y, x_r] == DEFINED:\n",
      "    17         1       5951.0   5951.0      0.7                      neighbors.append((y, x_r, euclidean_distance(origin, (y, x_r))))\n",
      "    18                                           \n",
      "    19       182      57679.0    316.9      6.9          for x in range(x_l + 1, x_r):\n",
      "    20       169      60406.0    357.4      7.2              if 0 <= x < width:\n",
      "    21       169     108238.0    640.5     12.9                  if y_t >= 0 and mask[y_t, x] == DEFINED:\n",
      "    22                                                               neighbors.append((y_t, x, euclidean_distance(origin, (y_t, x))))\n",
      "    23       169     109554.0    648.2     13.1                  if y_b < height and mask[y_b, x] == DEFINED:\n",
      "    24                                                               neighbors.append((y_b, x, euclidean_distance(origin, (y_b, x))))\n",
      "    25                                           \n",
      "    26        13       6352.0    488.6      0.8          if len(neighbors) >= k:\n",
      "    27         4      12755.0   3188.8      1.5              neighbors = sorted(neighbors, key=lambda item: item[2])\n",
      "    28         4       1845.0    461.2      0.2              neighbors = neighbors[0 :k]\n",
      "    29         4       2424.0    606.0      0.3              if neighbors[-1][2] < distance:\n",
      "    30         1        230.0    230.0      0.0                  break\n",
      "    31                                           \n",
      "    32         1       1783.0   1783.0      0.2      return neighbors"
     ]
    }
   ],
   "source": [
    "%lprun -f nn_quadratic nn_quadratic(mask, origin, k)"
   ]
  },
  {
   "cell_type": "code",
   "execution_count": 125,
   "metadata": {},
   "outputs": [
    {
     "name": "stdout",
     "output_type": "stream",
     "text": [
      "Timer unit: 1e-09 s\n",
      "\n",
      "Total time: 0.00738337 s\n",
      "File: /tmp/ipykernel_40439/1203335792.py\n",
      "Function: nn_circle at line 1\n",
      "\n",
      "Line #      Hits         Time  Per Hit   % Time  Line Contents\n",
      "==============================================================\n",
      "     1                                           def nn_circle(mask: np.ndarray, origin: tuple, k: int) -> list[tuple]:\n",
      "     2         1        931.0    931.0      0.0      neighbors = set()\n",
      "     3         1        291.0    291.0      0.0      origin_y, origin_x = origin\n",
      "     4         1       1823.0   1823.0      0.0      height, width = mask.shape\n",
      "     5                                           \n",
      "     6         1      43001.0  43001.0      0.6      furthest_pixel = round(max(euclidean_distance(origin, (0, 0)), euclidean_distance(origin, (height, 0)), euclidean_distance(origin, (0, width)), euclidean_distance(origin, (height, width))))\n",
      "     7                                           \n",
      "     8         1      84869.0  84869.0      1.1      discretization = np.linspace(0, 2, 360) * np.pi\n",
      "     9        13       5501.0    423.2      0.1      for distance in range(1, furthest_pixel):\n",
      "    10        13     337179.0  25936.8      4.6          Y = np.round(distance * np.cos(discretization) + origin_y).astype(int)\n",
      "    11        13     279792.0  21522.5      3.8          X = np.round(distance * np.sin(discretization) + origin_x).astype(int)\n",
      "    12                                           \n",
      "    13      4383    1696133.0    387.0     23.0          for y, x in zip(Y, X):\n",
      "    14      4371    4900764.0   1121.2     66.4              if 0 <= y < height and 0 <= x < width and mask[y, x] == DEFINED:\n",
      "    15        37      17584.0    475.2      0.2                  neighbors.add((y, x))\n",
      "    16        37      13926.0    376.4      0.2                  if len(neighbors) == k:\n",
      "    17         1       1573.0   1573.0      0.0                      return list(neighbors)\n",
      "    18                                           \n",
      "    19                                               return list(neighbors)"
     ]
    }
   ],
   "source": [
    "%lprun -f nn_circle nn_circle(mask, origin, k)"
   ]
  },
  {
   "cell_type": "code",
   "execution_count": 20,
   "metadata": {},
   "outputs": [
    {
     "name": "stdout",
     "output_type": "stream",
     "text": [
      "Timer unit: 1e-09 s\n",
      "\n",
      "Total time: 0.000193483 s\n",
      "File: /tmp/ipykernel_56910/679757888.py\n",
      "Function: nn_circle_opt at line 1\n",
      "\n",
      "Line #      Hits         Time  Per Hit   % Time  Line Contents\n",
      "==============================================================\n",
      "     1                                           def nn_circle_opt(mask: np.ndarray, origin: tuple, k: int) -> list[tuple]:\n",
      "     2         1       2165.0   2165.0      1.1      height, width = mask.shape\n",
      "     3                                           \n",
      "     4         1      37741.0  37741.0     19.5      furthest_pixel = round(max(euclidean_distance(origin, (0, 0)), euclidean_distance(origin, (height, 0)), euclidean_distance(origin, (0, width)), euclidean_distance(origin, (height, width))))\n",
      "     5                                           \n",
      "     6         1      74249.0  74249.0     38.4      discretization = np.linspace(0, 2, 360) * np.pi\n",
      "     7         1      78096.0  78096.0     40.4      neighbors = knn.nn_circular(mask, origin, discretization, furthest_pixel, k)\n",
      "     8                                           \n",
      "     9         1       1232.0   1232.0      0.6      return list(neighbors)"
     ]
    }
   ],
   "source": [
    "%lprun -f nn_circle_opt nn_circle_opt(mask, origin, k)"
   ]
  }
 ],
 "metadata": {
  "kernelspec": {
   "display_name": "venv",
   "language": "python",
   "name": "python3"
  },
  "language_info": {
   "codemirror_mode": {
    "name": "ipython",
    "version": 3
   },
   "file_extension": ".py",
   "mimetype": "text/x-python",
   "name": "python",
   "nbconvert_exporter": "python",
   "pygments_lexer": "ipython3",
   "version": "3.12.3"
  }
 },
 "nbformat": 4,
 "nbformat_minor": 2
}
