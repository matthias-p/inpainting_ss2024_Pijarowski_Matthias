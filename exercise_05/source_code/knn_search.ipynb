{
 "cells": [
  {
   "cell_type": "code",
   "execution_count": 1,
   "id": "13ce8d93",
   "metadata": {},
   "outputs": [],
   "source": [
    "%load_ext line_profiler"
   ]
  },
  {
   "cell_type": "code",
   "execution_count": 2,
   "id": "433aae1f-55f7-49da-a09e-3bd636a021a2",
   "metadata": {
    "scrolled": true
   },
   "outputs": [
    {
     "name": "stdout",
     "output_type": "stream",
     "text": [
      "[(16, 15, 1.0), (17, 13, 2.8284271247461903), (18, 12, 4.242640687119285), (11, 12, 5.0)]\n"
     ]
    },
    {
     "data": {
      "image/png": "[encoded data removed]",
      "text/plain": [
       "<Figure size 1600x800 with 1 Axes>"
      ]
     },
     "metadata": {},
     "output_type": "display_data"
    }
   ],
   "source": [
    "import sys\n",
    "import cv2\n",
    "from matplotlib import pyplot as plt\n",
    "from matplotlib.patches import Rectangle\n",
    "import numpy\n",
    "import numpy as np\n",
    "import math\n",
    "from scipy.spatial import Delaunay\n",
    "\n",
    "sys.path.append(\"/home/matthias/Documents/inpainting_ss2024_Pijarowski_Matthias/cpp\")\n",
    "\n",
    "import example\n",
    "\n",
    "defined      = 0\n",
    "undefined    = 255\n",
    "\n",
    "mask  = cv2.imread(\"data/knn_unittest.png\", cv2.IMREAD_GRAYSCALE )\n",
    "\n",
    "def find_nearest_neighbors_brute_force( coordinate, mask, k, axis=None, Debug=False ):\n",
    "    x_origin,y_origin = coordinate\n",
    "    candidates = []\n",
    "    for y in range(mask.shape[1]):\n",
    "        for x in range(mask.shape[0]):\n",
    "            if x_origin == x and y_origin == y:\n",
    "                continue\n",
    "            if mask[y,x] == defined:\n",
    "                dx = x-x_origin\n",
    "                dy = y-y_origin\n",
    "                distance = numpy.sqrt( dx*dx+dy*dy )\n",
    "                candidates.append( ( x, y, distance ) )\n",
    "    candidates = sorted( candidates, key=lambda x: x[2] )\n",
    "    return candidates[0:k]\n",
    "\n",
    "def display_neightbors( axis, mask, origin, neighbors ):\n",
    "    axis.imshow(mask, cmap='Greys', alpha=0.5)\n",
    "    X = [x for x,_,_ in neighbors ]\n",
    "    Y = [y for _,y,_ in neighbors ]\n",
    "    ox,oy = origin\n",
    "    axis.scatter( x=[ox],y=[oy], c=\"red\" )\n",
    "    axis.scatter( x=X,y=Y )\n",
    "    axis.set_xticks([])\n",
    "    axis.set_yticks([])\n",
    "\n",
    "origin = (15,15)\n",
    "neighbors = find_nearest_neighbors_brute_force( origin, mask, 4, None, True ) \n",
    "print( neighbors )\n",
    "\n",
    "fig,axis = plt.subplots( 1, 1, figsize=(16,8) )\n",
    "display_neightbors( axis, mask, origin, neighbors )\n",
    "plt.savefig(\"knn_search_brute_force.png\")\n",
    "plt.show()"
   ]
  },
  {
   "cell_type": "code",
   "execution_count": 3,
   "id": "906a36f6",
   "metadata": {},
   "outputs": [],
   "source": [
    "def display_neighbors(mask, origin, neighbors):\n",
    "    fig,axis = plt.subplots( 1, 1, figsize=(8,8) )\n",
    "    axis.imshow(mask, cmap='Greys', alpha=0.5)\n",
    "    X = [neighour[1] for neighour in neighbors]\n",
    "    Y = [neighour[0] for neighour in neighbors]\n",
    "    oy,ox = origin\n",
    "    axis.scatter( x=[ox],y=[oy], c=\"red\" )\n",
    "    axis.scatter( x=X,y=Y )\n",
    "    plt.show()"
   ]
  },
  {
   "cell_type": "code",
   "execution_count": 4,
   "id": "5dfb741c",
   "metadata": {},
   "outputs": [],
   "source": [
    "def euclidean_distance(point1: tuple[int, int], point2: tuple[int, int]) -> float:\n",
    "    p1_y, p1_x = point1\n",
    "    p2_y, p2_x = point2\n",
    "\n",
    "    return np.sqrt((p2_y - p1_y) ** 2 + (p2_x - p1_x) ** 2)\n",
    "\n",
    "\n",
    "def find_nearest_neighbors_quadratic(mask: np.ndarray, origin: tuple[int, int], k: int) -> list[tuple[int, int, float]]:\n",
    "    origin_y, origin_x = origin\n",
    "    height, width = mask.shape\n",
    "    neighbors = []\n",
    "\n",
    "    for distance in range(1, mask.shape[0] // 2 + 1):\n",
    "        pixels_to_process = []\n",
    "        tl_y, tl_x = origin_y - distance, origin_x - distance\n",
    "        br_y, br_x = origin_y + distance, origin_x + distance\n",
    "\n",
    "        for y in range(tl_y, br_y + 1):\n",
    "            if 0 <= y < height:\n",
    "                if tl_x >= 0:\n",
    "                    pixels_to_process.append((y, tl_x))\n",
    "                if br_x < width:\n",
    "                    pixels_to_process.append((y, br_x))\n",
    "\n",
    "        for x in range(tl_x + 1, br_x):\n",
    "            if 0 <= x < width:\n",
    "                if tl_y >= 0:\n",
    "                    pixels_to_process.append((tl_y, x))\n",
    "                if br_y < height:\n",
    "                    pixels_to_process.append((br_y, x))\n",
    "\n",
    "        for y, x in pixels_to_process:\n",
    "            if mask[y, x] == defined:\n",
    "                distance = euclidean_distance(origin, (y, x))\n",
    "                if len(neighbors) < k:\n",
    "                    neighbors.append((y, x, distance))\n",
    "                elif len(neighbors) == k and distance < neighbors[-1][2]:\n",
    "                    neighbors.pop()\n",
    "                    neighbors.append((y, x, distance))\n",
    "                neighbors = sorted(neighbors, key=lambda tup: tup[2])\n",
    "\n",
    "    return neighbors\n",
    "\n"
   ]
  },
  {
   "cell_type": "code",
   "execution_count": 5,
   "id": "54cdb283",
   "metadata": {},
   "outputs": [],
   "source": [
    "def find_nearest_neighbors_circle(mask: np.ndarray, origin: tuple[int, int], k: int) -> list[tuple[int, int]]:\n",
    "    origin_y, origin_x = origin\n",
    "    height, width = mask.shape\n",
    "\n",
    "    d_tl, d_bl, d_tr, d_br = (euclidean_distance(origin, (0, 0)), \n",
    "                              euclidean_distance(origin, (height, 0)), \n",
    "                              euclidean_distance(origin, (0, width)), \n",
    "                              euclidean_distance(origin, (height, width)))\n",
    "\n",
    "    thetas = np.linspace(0, 2, 360, endpoint=False) * np.pi\n",
    "    neighbors = set()\n",
    "\n",
    "    for radius in range(1, round(max([d_tl, d_bl, d_tr, d_br]))):\n",
    "        Y = np.round(radius * np.cos(thetas) + origin_y).astype(int)\n",
    "        X = np.round(radius * np.sin(thetas) + origin_x).astype(int)\n",
    "        for y, x in zip(Y, X):\n",
    "            if mask[y, x] == defined and 0 <= y < height and 0 <= x < width:\n",
    "                neighbors.add((y, x))\n",
    "                if len(neighbors) == k:\n",
    "                    return list(neighbors)\n",
    "\n",
    "    return list(neighbors)\n",
    "\n",
    "\n",
    "# %lprun -f find_nearest_neighbors_circle find_nearest_neighbors_circle(mask=mask, origin=origin, k=4)\n",
    "# origin = (15, 15)\n",
    "# image = np.full((31, 31), 255)\n",
    "# image[0, 0] = 0\n",
    "# image[0, 30] = 0\n",
    "# image[30, 0] = 0\n",
    "# image[30, 30] = 0\n",
    "# neighbors = find_nearest_neighbors_circle(image, origin, 4)\n",
    "# display_neighbors(image, origin, neighbors)\n"
   ]
  },
  {
   "cell_type": "code",
   "execution_count": 6,
   "id": "702a928d",
   "metadata": {},
   "outputs": [],
   "source": [
    "def find_nearest_neighbors_graph(mask: np.ndarray, origin: tuple[int, int], k: int) -> list[tuple[int, int]]:\n",
    "    points = [origin] + (np.argwhere(mask == defined).tolist())\n",
    "    delauny = Delaunay(points)\n",
    "    return\n",
    "\n",
    "origin = (15, 15)\n",
    "neighbors = find_nearest_neighbors_graph(mask, origin, 4)"
   ]
  },
  {
   "cell_type": "code",
   "execution_count": 7,
   "id": "b95fef95",
   "metadata": {},
   "outputs": [
    {
     "name": "stderr",
     "output_type": "stream",
     "text": [
      "test_bruteforce (__main__.TestKNN.test_bruteforce) ... ok\n",
      "test_quadatic (__main__.TestKNN.test_quadatic) ... ok\n",
      "test_quadratic_edge (__main__.TestKNN.test_quadratic_edge) ... ok\n",
      "test_quadratic_middle (__main__.TestKNN.test_quadratic_middle) ... ok\n",
      "\n",
      "----------------------------------------------------------------------\n",
      "Ran 4 tests in 0.006s\n",
      "\n",
      "OK\n"
     ]
    },
    {
     "data": {
      "text/plain": [
       "<unittest.main.TestProgram at 0x78f1b42d8da0>"
      ]
     },
     "execution_count": 7,
     "metadata": {},
     "output_type": "execute_result"
    }
   ],
   "source": [
    "import unittest\n",
    "\n",
    "class TestKNN(unittest.TestCase):\n",
    "    def make_display(self, mask, origin, neighbours):\n",
    "        fig, axis = plt.subplots( 1, 1, figsize=(16,8) )\n",
    "        axis.imshow(mask, cmap='Greys', alpha=0.5)\n",
    "        X = [x for _, x, _ in neighbours ]\n",
    "        Y = [y for y, _, _ in neighbours ]\n",
    "        oy,ox = origin\n",
    "        axis.scatter( x=[ox],y=[oy], c=\"red\" )\n",
    "        axis.scatter( x=X,y=Y )\n",
    "        axis.set_xticks([])\n",
    "        axis.set_yticks([])\n",
    "        plt.show()\n",
    "\n",
    "    def test_bruteforce(self):\n",
    "        neighbors = find_nearest_neighbors_brute_force( origin, mask, 4, None, True )\n",
    "        neighbors = sorted([(y, x) for y, x, _ in neighbors])\n",
    "        gt = sorted([(16, 15), (17, 13), (18, 12), (11, 12)])\n",
    "\n",
    "        self.assertCountEqual(neighbors, gt)\n",
    "\n",
    "    def test_quadatic(self):\n",
    "        gt = sorted([(15, 16), (13, 17), (12, 18), (12, 11)])\n",
    "\n",
    "        neighbors = find_nearest_neighbors_quadratic(mask, origin, 4)\n",
    "        neighbors_ = sorted([(y, x) for y, x, _ in neighbors])\n",
    "\n",
    "        self.assertCountEqual(neighbors_, gt)\n",
    "        # self.make_display(mask, origin, neighbors)\n",
    "\n",
    "    def test_quadratic_edge(self):\n",
    "        im = np.array([[255, 255, 255, 255, 0, 255, 255, 255, 255],\n",
    "               [255, 0, 255, 255, 255, 255, 255, 0, 255], \n",
    "               [255, 255, 255, 255, 255, 255, 255, 255, 255], \n",
    "               [255, 255, 255, 255, 255, 255, 255, 255, 0], \n",
    "               [0, 255, 255, 255, 255, 255, 255, 255, 255], \n",
    "               [255, 255, 255, 255, 255, 255, 255, 255, 255], \n",
    "               [255, 255, 255, 255, 255, 255, 255, 255, 255], \n",
    "               [255, 0, 255, 255, 255, 255, 255, 0, 255], \n",
    "               [255, 255, 255, 255, 0, 255, 255, 255, 255], \n",
    "               ])\n",
    "        gt = sorted([(3, 8), (1, 7), (7, 7), (0, 4)])\n",
    "        neighbors = find_nearest_neighbors_quadratic(im, (4, 8), 4)\n",
    "        neighbors_ = sorted([(y, x) for y, x, _ in neighbors])\n",
    "\n",
    "        self.assertCountEqual(neighbors_, gt)\n",
    "        # self.make_display(im, (4, 8), neighbors)\n",
    "\n",
    "    def test_quadratic_middle(self):\n",
    "        im = np.array([[255, 255, 255, 255, 0, 255, 255, 255, 255],\n",
    "               [255, 0, 255, 255, 255, 255, 255, 0, 255], \n",
    "               [255, 255, 255, 255, 255, 255, 255, 255, 255], \n",
    "               [255, 255, 255, 255, 255, 255, 255, 255, 0], \n",
    "               [0, 255, 255, 255, 255, 255, 255, 255, 255], \n",
    "               [255, 255, 255, 255, 255, 255, 255, 255, 255], \n",
    "               [255, 255, 255, 255, 255, 255, 255, 255, 255], \n",
    "               [255, 0, 255, 255, 255, 255, 255, 0, 255], \n",
    "               [255, 255, 255, 255, 0, 255, 255, 255, 255], \n",
    "               ])\n",
    "        gt = sorted([(4, 0), (0, 4), (8, 4), (3, 8)])\n",
    "        neighbors = find_nearest_neighbors_quadratic(im, (4, 4), 4)\n",
    "        neighbors_ = sorted([(y, x) for y, x, _ in neighbors])\n",
    "\n",
    "        # self.make_display(im, (4, 4), neighbors)\n",
    "        self.assertCountEqual(neighbors_, gt)\n",
    "\n",
    "unittest.main(argv=[\"\"], verbosity=2, exit=False)"
   ]
  },
  {
   "cell_type": "code",
   "execution_count": null,
   "id": "b769ca9a",
   "metadata": {},
   "outputs": [],
   "source": [
    "def find_nearest_neighbors_circle_2(mask: np.ndarray, origin: tuple[int, int], k: int) -> list[tuple[int, int]]:\n",
    "    origin_y, origin_x = origin\n",
    "    height, width = mask.shape\n",
    "\n",
    "    d_tl, d_bl, d_tr, d_br = (euclidean_distance(origin, (0, 0)), \n",
    "                              euclidean_distance(origin, (height, 0)), \n",
    "                              euclidean_distance(origin, (0, width)), \n",
    "                              euclidean_distance(origin, (height, width)))\n",
    "\n",
    "    thetas = np.linspace(0, 2, 360, endpoint=False) * np.pi\n",
    "    neighbors = []\n",
    "\n",
    "    for radius in range(1, round(max([d_tl, d_bl, d_tr, d_br]))):\n",
    "        Y = np.round(radius * np.cos(thetas) + origin_y).astype(int)\n",
    "        X = np.round(radius * np.sin(thetas) + origin_x).astype(int)\n",
    "        neighbors += example.get_neighbors(mask, Y, X, k - len(neighbors))\n",
    "\n",
    "    return neighbors"
   ]
  },
  {
   "cell_type": "code",
   "execution_count": 8,
   "id": "6b06bcfb",
   "metadata": {},
   "outputs": [],
   "source": [
    "import time"
   ]
  },
  {
   "cell_type": "code",
   "execution_count": 11,
   "id": "c3bf7ca3",
   "metadata": {},
   "outputs": [],
   "source": [
    "origin = (0, 200)\n",
    "test_image = np.random.rand(160000).reshape((400, 400))\n",
    "test_image = np.where(test_image < 0.01, 0, 255)\n",
    "\n",
    "neighbors = find_nearest_neighbors_circle(mask=test_image, origin=origin, k=4)\n",
    "# display_neighbors(test_image, origin, neighbors)"
   ]
  },
  {
   "cell_type": "code",
   "execution_count": 13,
   "id": "c3e3b775",
   "metadata": {},
   "outputs": [
    {
     "name": "stdout",
     "output_type": "stream",
     "text": [
      "Timer unit: 1e-09 s\n",
      "\n",
      "Total time: 0.00361299 s\n",
      "File: /tmp/ipykernel_48213/1113952817.py\n",
      "Function: find_nearest_neighbors_circle at line 1\n",
      "\n",
      "Line #      Hits         Time  Per Hit   % Time  Line Contents\n",
      "==============================================================\n",
      "     1                                           def find_nearest_neighbors_circle(mask: np.ndarray, origin: tuple[int, int], k: int) -> list[tuple[int, int]]:\n",
      "     2         1        872.0    872.0      0.0      origin_y, origin_x = origin\n",
      "     3         1       2415.0   2415.0      0.1      height, width = mask.shape\n",
      "     4                                           \n",
      "     5         2      29134.0  14567.0      0.8      d_tl, d_bl, d_tr, d_br = (euclidean_distance(origin, (0, 0)), \n",
      "     6         1       5060.0   5060.0      0.1                                euclidean_distance(origin, (height, 0)), \n",
      "     7         1       3466.0   3466.0      0.1                                euclidean_distance(origin, (0, width)), \n",
      "     8         1       3096.0   3096.0      0.1                                euclidean_distance(origin, (height, width)))\n",
      "     9                                           \n",
      "    10         1      88736.0  88736.0      2.5      thetas = np.linspace(0, 2, 360, endpoint=False) * np.pi\n",
      "    11         1        802.0    802.0      0.0      neighbors = set()\n",
      "    12                                           \n",
      "    13         9      14377.0   1597.4      0.4      for radius in range(1, round(max([d_tl, d_bl, d_tr, d_br]))):\n",
      "    14         9     278731.0  30970.1      7.7          Y = np.round(radius * np.cos(thetas) + origin_y).astype(int)\n",
      "    15         9     176779.0  19642.1      4.9          X = np.round(radius * np.sin(thetas) + origin_x).astype(int)\n",
      "    16      3156    1222668.0    387.4     33.8          for y, x in zip(Y, X):\n",
      "    17      3148    1741535.0    553.2     48.2              if mask[y, x] == defined and 0 <= y < height and 0 <= x < width:\n",
      "    18        54      23618.0    437.4      0.7                  neighbors.add((y, x))\n",
      "    19        54      19480.0    360.7      0.5                  if len(neighbors) == k:\n",
      "    20         1       2225.0   2225.0      0.1                      return list(neighbors)\n",
      "    21                                           \n",
      "    22                                               return list(neighbors)"
     ]
    }
   ],
   "source": [
    "%lprun -f find_nearest_neighbors_circle find_nearest_neighbors_circle(test_image, origin, 4)"
   ]
  },
  {
   "cell_type": "code",
   "execution_count": 12,
   "id": "47fddf92",
   "metadata": {},
   "outputs": [
    {
     "name": "stdout",
     "output_type": "stream",
     "text": [
      "Timer unit: 1e-09 s\n",
      "\n",
      "Total time: 0.140543 s\n",
      "File: /tmp/ipykernel_43272/1948342298.py\n",
      "Function: find_nearest_neighbors_quadratic at line 8\n",
      "\n",
      "Line #      Hits         Time  Per Hit   % Time  Line Contents\n",
      "==============================================================\n",
      "     8                                           def find_nearest_neighbors_quadratic(mask: np.ndarray, origin: tuple[int, int], k: int) -> list[tuple[int, int, float]]:\n",
      "     9         1        882.0    882.0      0.0      origin_y, origin_x = origin\n",
      "    10         1       1483.0   1483.0      0.0      height, width = mask.shape\n",
      "    11         1        310.0    310.0      0.0      neighbors = []\n",
      "    12                                           \n",
      "    13       201      37459.0    186.4      0.0      for distance in range(1, mask.shape[0] // 2 + 1):\n",
      "    14       200    1717897.0   8589.5      1.2          pixels_to_process = []\n",
      "    15       200      32752.0    163.8      0.0          tl_y, tl_x = origin_y - distance, origin_x - distance\n",
      "    16       200      35158.0    175.8      0.0          br_y, br_x = origin_y + distance, origin_x + distance\n",
      "    17                                           \n",
      "    18     40600    4784838.0    117.9      3.4          for y in range(tl_y, br_y + 1):\n",
      "    19     40400    5909675.0    146.3      4.2              if 0 <= y < height:\n",
      "    20     40399    5000841.0    123.8      3.6                  if tl_x >= 0:\n",
      "    21     40399    4855309.0    120.2      3.5                      pixels_to_process.append((y, tl_x))\n",
      "    22     40399    5775896.0    143.0      4.1                  if br_x < width:\n",
      "    23     39999    4890623.0    122.3      3.5                      pixels_to_process.append((y, br_x))\n",
      "    24                                           \n",
      "    25     40200    5510693.0    137.1      3.9          for x in range(tl_x + 1, br_x):\n",
      "    26     40000    7460475.0    186.5      5.3              if 0 <= x < width:\n",
      "    27     40000    5687858.0    142.2      4.0                  if tl_y >= 0:\n",
      "    28     40000    4691407.0    117.3      3.3                      pixels_to_process.append((tl_y, x))\n",
      "    29     40000    5795462.0    144.9      4.1                  if br_y < height:\n",
      "    30     39601    4955347.0    125.1      3.5                      pixels_to_process.append((br_y, x))\n",
      "    31                                           \n",
      "    32    160199   24768742.0    154.6     17.6          for y, x in pixels_to_process:\n",
      "    33    159999   42866694.0    267.9     30.5              if mask[y, x] == defined:\n",
      "    34      1669    2915720.0   1747.0      2.1                  distance = euclidean_distance(origin, (y, x))\n",
      "    35      1669     362558.0    217.2      0.3                  if len(neighbors) < k:\n",
      "    36         4       1101.0    275.2      0.0                      neighbors.append((y, x, distance))\n",
      "    37      1665     446130.0    267.9      0.3                  elif len(neighbors) == k and distance < neighbors[-1][2]:\n",
      "    38         1        301.0    301.0      0.0                      neighbors.pop()\n",
      "    39         1        161.0    161.0      0.0                      neighbors.append((y, x, distance))\n",
      "    40      1669    2035804.0   1219.8      1.4                  neighbors = sorted(neighbors, key=lambda tup: tup[2])\n",
      "    41                                           \n",
      "    42         1       1443.0   1443.0      0.0      return neighbors"
     ]
    }
   ],
   "source": [
    "%lprun -f find_nearest_neighbors_quadratic find_nearest_neighbors_quadratic(test_image, origin, 4)"
   ]
  },
  {
   "cell_type": "code",
   "execution_count": 13,
   "id": "78410855",
   "metadata": {},
   "outputs": [
    {
     "name": "stdout",
     "output_type": "stream",
     "text": [
      "1.0966577529907227\n"
     ]
    }
   ],
   "source": [
    "t1 = time.time()\n",
    "for _ in range(1000):\n",
    "    find_nearest_neighbors_circle(mask=test_image, origin=origin, k=4)\n",
    "print(time.time() - t1)"
   ]
  },
  {
   "cell_type": "code",
   "execution_count": 14,
   "id": "37597da3",
   "metadata": {},
   "outputs": [],
   "source": [
    "import example"
   ]
  },
  {
   "cell_type": "code",
   "execution_count": 15,
   "id": "d3d2fe9f",
   "metadata": {},
   "outputs": [
    {
     "name": "stdout",
     "output_type": "stream",
     "text": [
      "0.0947413444519043\n"
     ]
    }
   ],
   "source": [
    "t1 = time.time()\n",
    "for _ in range(1000):\n",
    "    example.nn_circular(test_image, origin, 4)\n",
    "print(time.time() - t1)"
   ]
  },
  {
   "cell_type": "code",
   "execution_count": 16,
   "id": "10b0a98a",
   "metadata": {},
   "outputs": [
    {
     "name": "stdout",
     "output_type": "stream",
     "text": [
      "12.45592737197876\n"
     ]
    }
   ],
   "source": [
    "t1 = time.time()\n",
    "for _ in range(1000):\n",
    "    example.nn_quadratic(test_image, origin, 4)\n",
    "print(time.time() - t1)"
   ]
  },
  {
   "cell_type": "code",
   "execution_count": 17,
   "id": "106d4304",
   "metadata": {},
   "outputs": [
    {
     "name": "stdout",
     "output_type": "stream",
     "text": [
      "26.681103944778442\n"
     ]
    }
   ],
   "source": [
    "t1 = time.time()\n",
    "for _ in range(1000):\n",
    "    find_nearest_neighbors_quadratic(mask=test_image, origin=origin, k=4)\n",
    "print(time.time() - t1)"
   ]
  },
  {
   "cell_type": "code",
   "execution_count": 18,
   "id": "da2395ae",
   "metadata": {},
   "outputs": [
    {
     "name": "stdout",
     "output_type": "stream",
     "text": [
      "19.95166301727295\n"
     ]
    }
   ],
   "source": [
    "t1 = time.time()\n",
    "for _ in range(1000):\n",
    "    find_nearest_neighbors_brute_force(mask=test_image, coordinate=origin, k=4)\n",
    "print(time.time() - t1)"
   ]
  }
 ],
 "metadata": {
  "kernelspec": {
   "display_name": "Python 3 (ipykernel)",
   "language": "python",
   "name": "python3"
  },
  "language_info": {
   "codemirror_mode": {
    "name": "ipython",
    "version": 3
   },
   "file_extension": ".py",
   "mimetype": "text/x-python",
   "name": "python",
   "nbconvert_exporter": "python",
   "pygments_lexer": "ipython3",
   "version": "3.12.3"
  }
 },
 "nbformat": 4,
 "nbformat_minor": 5
}
