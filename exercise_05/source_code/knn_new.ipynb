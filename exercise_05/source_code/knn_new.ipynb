{
 "cells": [
  {
   "cell_type": "code",
   "execution_count": 1,
   "metadata": {},
   "outputs": [],
   "source": [
    "import numpy as np\n",
    "import cv2\n",
    "from scipy.spatial import Delaunay\n",
    "\n",
    "import matplotlib.pyplot as plt"
   ]
  },
  {
   "cell_type": "code",
   "execution_count": 2,
   "metadata": {},
   "outputs": [],
   "source": [
    "DEFINED = 0\n",
    "UNDEFINED = 255\n",
    "\n",
    "origin = (15, 15)\n",
    "mask = cv2.imread(\"data/knn_unittest.png\", cv2.IMREAD_GRAYSCALE)"
   ]
  },
  {
   "cell_type": "code",
   "execution_count": 3,
   "metadata": {},
   "outputs": [],
   "source": [
    "def display_neighbors(mask: np.ndarray, origin: tuple, neighbors: list[tuple]):\n",
    "    fig, axis = plt.subplots(1, 1, figsize=(6,6))\n",
    "    axis.imshow(mask, cmap=\"Greys\", alpha=0.5)\n",
    "    axis.scatter(y=[origin[0]], x=[origin[1]], c=\"red\")\n",
    "    axis.scatter(y=[n[0] for n in neighbors], x=[n[1] for n in neighbors])\n",
    "    \n",
    "    axis.set_xticks([])\n",
    "    axis.set_yticks([])\n",
    "\n",
    "    plt.show()"
   ]
  },
  {
   "cell_type": "code",
   "execution_count": 4,
   "metadata": {},
   "outputs": [],
   "source": [
    "def euclidean_distance(point1: tuple[int, int], point2: tuple[int, int]) -> float:\n",
    "    p1_y, p1_x = point1\n",
    "    p2_y, p2_x = point2\n",
    "\n",
    "    return np.sqrt((p2_y - p1_y) ** 2 + (p2_x - p1_x) ** 2)"
   ]
  },
  {
   "cell_type": "code",
   "execution_count": 5,
   "metadata": {},
   "outputs": [
    {
     "data": {
      "image/png": "[encoded data removed]",
      "text/plain": [
       "<Figure size 600x600 with 1 Axes>"
      ]
     },
     "metadata": {},
     "output_type": "display_data"
    }
   ],
   "source": [
    "def nn_bruteforce(mask: np.ndarray, origin: tuple, k: int) -> list[tuple]:\n",
    "    neighbors = []\n",
    "    height, width = mask.shape\n",
    "\n",
    "    for y in range(height):\n",
    "        for x in range(width):\n",
    "            if mask[y, x] == DEFINED:\n",
    "                neighbors.append((y, x, euclidean_distance(origin, (y, x))))\n",
    "\n",
    "    # candidates = np.argwhere(mask == DEFINED)\n",
    "    # for y, x in candidates:\n",
    "    #     neighbors.append((y, x, euclidean_distance(origin, (y, x))))\n",
    "\n",
    "    neighbors = sorted(neighbors, key=lambda item: item[2])\n",
    "    return neighbors[0: k]\n",
    "\n",
    "neighbors = nn_bruteforce(mask, origin, 4)\n",
    "display_neighbors(mask, origin, neighbors)"
   ]
  },
  {
   "cell_type": "code",
   "execution_count": 6,
   "metadata": {},
   "outputs": [
    {
     "data": {
      "image/png": "[encoded data removed]",
      "text/plain": [
       "<Figure size 600x600 with 1 Axes>"
      ]
     },
     "metadata": {},
     "output_type": "display_data"
    }
   ],
   "source": [
    "def nn_bruteforce_numpy(mask: np.ndarray, origin: tuple, k: int) -> list[tuple]:\n",
    "    neighbors = []\n",
    "    candidates = np.argwhere(mask == DEFINED)\n",
    "    for y, x in candidates:\n",
    "        neighbors.append((y, x, euclidean_distance(origin, (y, x))))\n",
    "\n",
    "    neighbors = sorted(neighbors, key=lambda item: item[2])\n",
    "    return neighbors[0: k]\n",
    "\n",
    "neighbors = nn_bruteforce(mask, origin, 4)\n",
    "display_neighbors(mask, origin, neighbors)"
   ]
  },
  {
   "cell_type": "code",
   "execution_count": 7,
   "metadata": {},
   "outputs": [
    {
     "ename": "NameError",
     "evalue": "name 'nn_delaunay_2' is not defined",
     "output_type": "error",
     "traceback": [
      "\u001b[0;31m---------------------------------------------------------------------------\u001b[0m",
      "\u001b[0;31mNameError\u001b[0m                                 Traceback (most recent call last)",
      "Cell \u001b[0;32mIn[7], line 36\u001b[0m\n\u001b[1;32m     32\u001b[0m     plt\u001b[38;5;241m.\u001b[39mshow()\n\u001b[1;32m     34\u001b[0m     \u001b[38;5;28;01mreturn\u001b[39;00m neighbors\n\u001b[0;32m---> 36\u001b[0m neighbors \u001b[38;5;241m=\u001b[39m \u001b[43mnn_delaunay_2\u001b[49m(mask, origin, \u001b[38;5;241m4\u001b[39m)\n\u001b[1;32m     37\u001b[0m display_neighbors(mask, origin, neighbors)\n",
      "\u001b[0;31mNameError\u001b[0m: name 'nn_delaunay_2' is not defined"
     ]
    }
   ],
   "source": [
    "def nn_delaunay(mask: np.ndarray, origin: tuple, k: int) -> list[tuple]:\n",
    "    neighbors, queue, visited  = [], [], []\n",
    "    radius = np.inf\n",
    "    tri = Delaunay(np.argwhere(mask == DEFINED), incremental=True)  # do this only once later\n",
    "    tri.add_points([origin])\n",
    "    indptr, indices = tri.vertex_neighbor_vertices\n",
    "\n",
    "    start_node_index = len(tri.points) - 1\n",
    "    queue.append(start_node_index)\n",
    "    visited.append(start_node_index)\n",
    "    while queue:\n",
    "        index = queue.pop(0)\n",
    "        if index != start_node_index:\n",
    "            p_y, p_x = tri.points[index]\n",
    "            neighbors.append((p_y, p_x, euclidean_distance(origin, (p_y, p_x))))\n",
    "            neighbors = sorted(neighbors, key=lambda item: item[2])\n",
    "            neighbors = neighbors[0: k]\n",
    "            if len(neighbors) == k:\n",
    "                radius = neighbors[-1][2]\n",
    "\n",
    "        neighbor_indices = indices[indptr[index]: indptr[index+1]]\n",
    "        for neighbor_index in neighbor_indices:\n",
    "            pn_y, pn_x = tri.points[neighbor_index]\n",
    "            if (neighbor_index not in visited) and (euclidean_distance(origin, (pn_y, pn_x)) < radius):\n",
    "                queue.append(neighbor_index)\n",
    "                visited.append(neighbor_index)\n",
    "\n",
    "    fig, axis = plt.subplots(1, 1, figsize=(6,6))\n",
    "    axis.imshow(mask, cmap=\"Greys\", alpha=0.5)\n",
    "    axis.triplot(tri.points[:,1], tri.points[:,0], tri.simplices)\n",
    "    axis.scatter(y=[origin[0]], x=[origin[1]], c=\"red\")\n",
    "    plt.show()\n",
    "\n",
    "    return neighbors\n",
    "\n",
    "neighbors = nn_delaunay(mask, origin, 4)\n",
    "display_neighbors(mask, origin, neighbors)"
   ]
  },
  {
   "cell_type": "code",
   "execution_count": null,
   "metadata": {},
   "outputs": [
    {
     "data": {
      "image/png": "[encoded data removed]",
      "text/plain": [
       "<Figure size 600x600 with 1 Axes>"
      ]
     },
     "metadata": {},
     "output_type": "display_data"
    }
   ],
   "source": [
    "def nn_quadratic(mask: np.ndarray, origin: tuple, k: int) -> list[tuple]:\n",
    "    neighbors = []\n",
    "    origin_y, origin_x = origin\n",
    "    height, width = mask.shape\n",
    "\n",
    "    max_distance = max(origin_y, height - origin_y, origin_x, width - origin_x)\n",
    "\n",
    "    for distance in range(1, max_distance):\n",
    "        y_t, y_b = origin_y - distance, origin_y + distance\n",
    "        x_l, x_r = origin_x - distance, origin_x + distance\n",
    "\n",
    "        for y in range(y_t, y_b + 1):\n",
    "            if 0 <= y < height:\n",
    "                if x_l >= 0 and mask[y, x_l] == DEFINED:\n",
    "                    neighbors.append((y, x_l, euclidean_distance(origin, (y, x_l))))\n",
    "                if x_r < width and mask[y, x_r] == DEFINED:\n",
    "                    neighbors.append((y, x_r, euclidean_distance(origin, (y, x_r))))\n",
    "\n",
    "        for x in range(x_l + 1, x_r):\n",
    "            if 0 <= x < width:\n",
    "                if y_t >= 0 and mask[y_t, x] == DEFINED:\n",
    "                    neighbors.append((y_t, x, euclidean_distance(origin, (y_t, x))))\n",
    "                if y_b < height and mask[y_b, x] == DEFINED:\n",
    "                    neighbors.append((y_b, x, euclidean_distance(origin, (y_b, x))))\n",
    "\n",
    "        if len(neighbors) >= k:\n",
    "            neighbors = sorted(neighbors, key=lambda item: item[2])\n",
    "            neighbors = neighbors[0 :k]\n",
    "            if neighbors[-1][2] < distance:\n",
    "                break\n",
    "\n",
    "    return neighbors\n",
    "\n",
    "neighbors = nn_quadratic(mask, origin, 4)\n",
    "display_neighbors(mask, origin, neighbors)"
   ]
  },
  {
   "cell_type": "code",
   "execution_count": null,
   "metadata": {},
   "outputs": [
    {
     "data": {
      "image/png": "[encoded data removed]",
      "text/plain": [
       "<Figure size 600x600 with 1 Axes>"
      ]
     },
     "metadata": {},
     "output_type": "display_data"
    }
   ],
   "source": [
    "def nn_circle(mask: np.ndarray, origin: tuple, k: int) -> list[tuple]:\n",
    "    neighbors = set()\n",
    "    origin_y, origin_x = origin\n",
    "    height, width = mask.shape\n",
    "\n",
    "    furthest_pixel = round(max(euclidean_distance(origin, (0, 0)), euclidean_distance(origin, (height, 0)), euclidean_distance(origin, (0, width)), euclidean_distance(origin, (height, width))))\n",
    "\n",
    "    discretization = np.linspace(0, 2, 360) * np.pi\n",
    "    for distance in range(1, furthest_pixel):\n",
    "        Y = np.round(distance * np.cos(discretization) + origin_y).astype(int)\n",
    "        X = np.round(distance * np.sin(discretization) + origin_x).astype(int)\n",
    "\n",
    "        for y, x in zip(Y, X):\n",
    "            if 0 <= y < height and 0 <= x < width and mask[y, x] == DEFINED:\n",
    "                neighbors.add((y, x))\n",
    "                if len(neighbors) == k:\n",
    "                    return list(neighbors)\n",
    "\n",
    "    return list(neighbors)\n",
    "\n",
    "neighbors = nn_circle(mask, origin, 4)\n",
    "display_neighbors(mask, origin, neighbors)"
   ]
  },
  {
   "cell_type": "code",
   "execution_count": null,
   "metadata": {},
   "outputs": [
    {
     "name": "stderr",
     "output_type": "stream",
     "text": [
      ".....\n",
      "----------------------------------------------------------------------\n",
      "Ran 5 tests in 0.009s\n",
      "\n",
      "OK\n"
     ]
    },
    {
     "data": {
      "text/plain": [
       "<unittest.main.TestProgram at 0x7d89718d8da0>"
      ]
     },
     "execution_count": 158,
     "metadata": {},
     "output_type": "execute_result"
    }
   ],
   "source": [
    "import unittest\n",
    "\n",
    "class TestNN(unittest.TestCase):\n",
    "\n",
    "    def get_default_mask_params(self):\n",
    "        origin = (15, 15)\n",
    "        mask = cv2.imread(\"data/knn_unittest.png\", cv2.IMREAD_GRAYSCALE)\n",
    "        k = 4\n",
    "        gt = [(15, 16), (15, 20), (13, 17), (12, 18), (12, 11)]\n",
    "\n",
    "        return mask, origin, k, gt\n",
    "    \n",
    "    def get_quadratic_mask_params_corner(self):\n",
    "        origin = (15, 15)\n",
    "        mask = np.full((31, 31), 255)\n",
    "        mask[1, 1] = 0\n",
    "        mask[29, 29] = 0\n",
    "        mask[15, 0] = 0\n",
    "        mask[15, 30] = 0\n",
    "        k = 2\n",
    "        gt = [(15, 0), (15, 30)]\n",
    "\n",
    "        return mask, origin, k, gt\n",
    "    \n",
    "    def get_circle_mask_params_corner(self):\n",
    "        origin = (15, 15)\n",
    "        mask = np.full((31, 31), 255)\n",
    "        mask[0, 0] = 0\n",
    "        mask[30, 30] = 0\n",
    "        k = 2\n",
    "        gt = [(0, 0), (30, 30)]\n",
    "\n",
    "        return mask, origin, k, gt\n",
    "\n",
    "    def test_bruteforce_default(self):\n",
    "        mask, origin, k, gt = self.get_default_mask_params()\n",
    "        neighbors = nn_bruteforce(mask, origin, k)\n",
    "        neighbors = [(n[0], n[1]) for n in neighbors]\n",
    "        self.assertTrue(set(gt).issuperset(set(neighbors)))\n",
    "\n",
    "    def test_quadratic_default(self):\n",
    "        mask, origin, k, gt = self.get_default_mask_params()\n",
    "        neighbors = nn_quadratic(mask, origin, k)\n",
    "        neighbors = [(n[0], n[1]) for n in neighbors]\n",
    "        self.assertTrue(set(gt).issuperset(set(neighbors)))\n",
    "\n",
    "    def test_circle_default(self):\n",
    "        mask, origin, k, gt = self.get_default_mask_params()\n",
    "        neighbors = nn_circle(mask, origin, k)\n",
    "        neighbors = [(n[0], n[1]) for n in neighbors]\n",
    "        self.assertTrue(set(gt).issuperset(set(neighbors)))\n",
    "\n",
    "    def test_quadratic_corner(self):\n",
    "        mask, origin, k, gt = self.get_quadratic_mask_params_corner()\n",
    "        neighbors = nn_quadratic(mask, origin, k)\n",
    "        neighbors = [(n[0], n[1]) for n in neighbors]\n",
    "        self.assertTrue(set(gt).issuperset(set(neighbors)))\n",
    "\n",
    "    def test_circle_corner(self):\n",
    "        mask, origin, k, gt = self.get_circle_mask_params_corner()\n",
    "        neighbors = nn_circle(mask, origin, k)\n",
    "        neighbors = [(n[0], n[1]) for n in neighbors]\n",
    "        self.assertTrue(set(gt).issuperset(set(neighbors)))\n",
    "\n",
    "\n",
    "unittest.main(argv=[\"\"], verbosity=1, exit=False)"
   ]
  },
  {
   "cell_type": "code",
   "execution_count": null,
   "metadata": {},
   "outputs": [
    {
     "name": "stdout",
     "output_type": "stream",
     "text": [
      "The line_profiler extension is already loaded. To reload it, use:\n",
      "  %reload_ext line_profiler\n"
     ]
    }
   ],
   "source": [
    "%load_ext line_profiler"
   ]
  },
  {
   "cell_type": "code",
   "execution_count": null,
   "metadata": {},
   "outputs": [],
   "source": [
    "fill_factors = np.linspace(0.01, 1, 99, endpoint=False)\n",
    "\n",
    "def profile_nn_f(nn_f):\n",
    "    for _ in range(100):\n",
    "        mask = np.random.rand(201, 201)\n",
    "        mask = np.where(mask < 0.01, DEFINED, UNDEFINED)\n",
    "        origin = (100, 100)\n",
    "        k = 10\n",
    "        neighbors = nn_f(mask, origin, k)\n",
    "\n"
   ]
  },
  {
   "cell_type": "code",
   "execution_count": null,
   "metadata": {},
   "outputs": [
    {
     "name": "stdout",
     "output_type": "stream",
     "text": [
      "Timer unit: 1e-09 s\n",
      "\n",
      "Total time: 1.52693 s\n",
      "File: /tmp/ipykernel_6635/2470931320.py\n",
      "Function: nn_bruteforce at line 1\n",
      "\n",
      "Line #      Hits         Time  Per Hit   % Time  Line Contents\n",
      "==============================================================\n",
      "     1                                           def nn_bruteforce(mask: np.ndarray, origin: tuple, k: int) -> list[tuple]:\n",
      "     2       100      29216.0    292.2      0.0      neighbors = []\n",
      "     3       100      60758.0    607.6      0.0      height, width = mask.shape\n",
      "     4                                           \n",
      "     5     20200    2373636.0    117.5      0.2      for y in range(height):\n",
      "     6   4060200  503510924.0    124.0     33.0          for x in range(width):\n",
      "     7   4040100  945306127.0    234.0     61.9              if mask[y, x] == DEFINED:\n",
      "     8     40029   63349431.0   1582.6      4.1                  neighbors.append((y, x, euclidean_distance(origin, (y, x))))\n",
      "     9                                           \n",
      "    10                                               # candidates = np.argwhere(mask == DEFINED)\n",
      "    11                                               # for y, x in candidates:\n",
      "    12                                               #     neighbors.append((y, x, euclidean_distance(origin, (y, x))))\n",
      "    13                                           \n",
      "    14       100   12205665.0 122056.6      0.8      neighbors = sorted(neighbors, key=lambda item: item[2])\n",
      "    15       100      89692.0    896.9      0.0      return neighbors[0: k]"
     ]
    }
   ],
   "source": [
    "%lprun -f nn_bruteforce profile_nn_f(nn_bruteforce)"
   ]
  },
  {
   "cell_type": "code",
   "execution_count": null,
   "metadata": {},
   "outputs": [
    {
     "name": "stdout",
     "output_type": "stream",
     "text": [
      "Timer unit: 1e-09 s\n",
      "\n",
      "Total time: 0.119816 s\n",
      "File: /tmp/ipykernel_6635/2638980425.py\n",
      "Function: nn_bruteforce_numpy at line 1\n",
      "\n",
      "Line #      Hits         Time  Per Hit   % Time  Line Contents\n",
      "==============================================================\n",
      "     1                                           def nn_bruteforce_numpy(mask: np.ndarray, origin: tuple, k: int) -> list[tuple]:\n",
      "     2       100      27190.0    271.9      0.0      neighbors = []\n",
      "     3       100    9620928.0  96209.3      8.0      candidates = np.argwhere(mask == DEFINED)\n",
      "     4     40340   33880417.0    839.9     28.3      for y, x in candidates:\n",
      "     5     40240   64498406.0   1602.8     53.8          neighbors.append((y, x, euclidean_distance(origin, (y, x))))\n",
      "     6                                           \n",
      "     7       100   11733242.0 117332.4      9.8      neighbors = sorted(neighbors, key=lambda item: item[2])\n",
      "     8       100      55730.0    557.3      0.0      return neighbors[0: k]"
     ]
    }
   ],
   "source": [
    "%lprun -f nn_bruteforce_numpy profile_nn_f(nn_bruteforce_numpy)"
   ]
  },
  {
   "cell_type": "code",
   "execution_count": null,
   "metadata": {},
   "outputs": [
    {
     "name": "stdout",
     "output_type": "stream",
     "text": [
      "Timer unit: 1e-09 s\n",
      "\n",
      "Total time: 0.0743647 s\n",
      "File: /tmp/ipykernel_6635/2555324451.py\n",
      "Function: nn_quadratic at line 1\n",
      "\n",
      "Line #      Hits         Time  Per Hit   % Time  Line Contents\n",
      "==============================================================\n",
      "     1                                           def nn_quadratic(mask: np.ndarray, origin: tuple, k: int) -> list[tuple]:\n",
      "     2       100      26663.0    266.6      0.0      neighbors = []\n",
      "     3       100      16420.0    164.2      0.0      origin_y, origin_x = origin\n",
      "     4       100      40126.0    401.3      0.1      height, width = mask.shape\n",
      "     5                                           \n",
      "     6       100      71269.0    712.7      0.1      max_distance = max(origin_y, height - origin_y, origin_x, width - origin_x)\n",
      "     7                                           \n",
      "     8      1853     286783.0    154.8      0.4      for distance in range(1, max_distance):\n",
      "     9      1853     254235.0    137.2      0.3          y_t, y_b = origin_y - distance, origin_y + distance\n",
      "    10      1853     231246.0    124.8      0.3          x_l, x_r = origin_x - distance, origin_x + distance\n",
      "    11                                           \n",
      "    12     40606    5482421.0    135.0      7.4          for y in range(y_t, y_b + 1):\n",
      "    13     38753    6118597.0    157.9      8.2              if 0 <= y < height:\n",
      "    14     38753   11479205.0    296.2     15.4                  if x_l >= 0 and mask[y, x_l] == DEFINED:\n",
      "    15       391     712767.0   1822.9      1.0                      neighbors.append((y, x_l, euclidean_distance(origin, (y, x_l))))\n",
      "    16     38753   12008816.0    309.9     16.1                  if x_r < width and mask[y, x_r] == DEFINED:\n",
      "    17       393     705048.0   1794.0      0.9                      neighbors.append((y, x_r, euclidean_distance(origin, (y, x_r))))\n",
      "    18                                           \n",
      "    19     36900    5556814.0    150.6      7.5          for x in range(x_l + 1, x_r):\n",
      "    20     35047    6593196.0    188.1      8.9              if 0 <= x < width:\n",
      "    21     35047   10943849.0    312.3     14.7                  if y_t >= 0 and mask[y_t, x] == DEFINED:\n",
      "    22       326     563944.0   1729.9      0.8                      neighbors.append((y_t, x, euclidean_distance(origin, (y_t, x))))\n",
      "    23     35047   10874681.0    310.3     14.6                  if y_b < height and mask[y_b, x] == DEFINED:\n",
      "    24       365     634712.0   1738.9      0.9                      neighbors.append((y_b, x, euclidean_distance(origin, (y_b, x))))\n",
      "    25                                           \n",
      "    26      1853     349498.0    188.6      0.5          if len(neighbors) >= k:\n",
      "    27       367    1112661.0   3031.8      1.5              neighbors = sorted(neighbors, key=lambda item: item[2])\n",
      "    28       367     105381.0    287.1      0.1              neighbors = neighbors[0 :k]\n",
      "    29       367      91444.0    249.2      0.1              if neighbors[-1][2] < distance:\n",
      "    30       100      15777.0    157.8      0.0                  break\n",
      "    31                                           \n",
      "    32       100      89191.0    891.9      0.1      return neighbors[0: k]"
     ]
    }
   ],
   "source": [
    "%lprun -f nn_quadratic profile_nn_f(nn_quadratic)"
   ]
  },
  {
   "cell_type": "code",
   "execution_count": null,
   "metadata": {},
   "outputs": [
    {
     "name": "stdout",
     "output_type": "stream",
     "text": [
      "Timer unit: 1e-09 s\n",
      "\n",
      "Total time: 0.537503 s\n",
      "File: /tmp/ipykernel_6635/1203335792.py\n",
      "Function: nn_circle at line 1\n",
      "\n",
      "Line #      Hits         Time  Per Hit   % Time  Line Contents\n",
      "==============================================================\n",
      "     1                                           def nn_circle(mask: np.ndarray, origin: tuple, k: int) -> list[tuple]:\n",
      "     2       100      48301.0    483.0      0.0      neighbors = set()\n",
      "     3       100      22650.0    226.5      0.0      origin_y, origin_x = origin\n",
      "     4       100      42628.0    426.3      0.0      height, width = mask.shape\n",
      "     5                                           \n",
      "     6       100    1103736.0  11037.4      0.2      furthest_pixel = round(max(euclidean_distance(origin, (0, 0)), euclidean_distance(origin, (height, 0)), euclidean_distance(origin, (0, width)), euclidean_distance(origin, (height, width))))\n",
      "     7                                           \n",
      "     8       100    2682908.0  26829.1      0.5      discretization = np.linspace(0, 2, 360) * np.pi\n",
      "     9      1798     335286.0    186.5      0.1      for distance in range(1, furthest_pixel):\n",
      "    10      1798   18686258.0  10392.8      3.5          Y = np.round(distance * np.cos(discretization) + origin_y).astype(int)\n",
      "    11      1798   16259151.0   9042.9      3.0          X = np.round(distance * np.sin(discretization) + origin_x).astype(int)\n",
      "    12                                           \n",
      "    13    629822  133499293.0    212.0     24.8          for y, x in zip(Y, X):\n",
      "    14    628124  362418492.0    577.0     67.4              if 0 <= y < height and 0 <= x < width and mask[y, x] == DEFINED:\n",
      "    15      5619    1236843.0    220.1      0.2                  neighbors.add((y, x))\n",
      "    16      5619    1001943.0    178.3      0.2                  if len(neighbors) == k:\n",
      "    17       100     165684.0   1656.8      0.0                      return list(neighbors)\n",
      "    18                                           \n",
      "    19                                               return list(neighbors)"
     ]
    }
   ],
   "source": [
    "\n",
    "%lprun -f nn_circle profile_nn_f(nn_circle)"
   ]
  },
  {
   "cell_type": "code",
   "execution_count": null,
   "metadata": {},
   "outputs": [],
   "source": []
  }
 ],
 "metadata": {
  "kernelspec": {
   "display_name": "venv",
   "language": "python",
   "name": "python3"
  },
  "language_info": {
   "codemirror_mode": {
    "name": "ipython",
    "version": 3
   },
   "file_extension": ".py",
   "mimetype": "text/x-python",
   "name": "python",
   "nbconvert_exporter": "python",
   "pygments_lexer": "ipython3",
   "version": "3.12.3"
  }
 },
 "nbformat": 4,
 "nbformat_minor": 2
}
