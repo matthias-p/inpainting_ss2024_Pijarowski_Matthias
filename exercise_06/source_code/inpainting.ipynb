{
 "cells": [
  {
   "cell_type": "code",
   "execution_count": 1,
   "metadata": {},
   "outputs": [],
   "source": [
    "%load_ext line_profiler"
   ]
  },
  {
   "cell_type": "code",
   "execution_count": 2,
   "metadata": {},
   "outputs": [],
   "source": [
    "import cv2\n",
    "import numpy as np\n",
    "import knn\n",
    "import inpainting_functions\n",
    "\n",
    "import random"
   ]
  },
  {
   "cell_type": "code",
   "execution_count": 3,
   "metadata": {},
   "outputs": [],
   "source": [
    "DEFINED = 0\n",
    "UNDEFINED = 255"
   ]
  },
  {
   "cell_type": "code",
   "execution_count": 4,
   "metadata": {},
   "outputs": [],
   "source": [
    "def create_pattern(mask: np.ndarray, origin: tuple, k: int) -> list[tuple]:\n",
    "    origin_y, origin_x = origin\n",
    "    neighbors = knn.nn_circular_native(mask, origin, k)\n",
    "    neighbors_relative = []\n",
    "    for y, x in neighbors:\n",
    "        neighbors_relative.append((y - origin_y, x - origin_x))\n",
    "    return neighbors_relative\n"
   ]
  },
  {
   "cell_type": "code",
   "execution_count": 5,
   "metadata": {},
   "outputs": [],
   "source": [
    "def generate_candidates(mask: np.ndarray, neighbors_relative: list[tuple], n: int) -> list[tuple]:\n",
    "    height, width = mask.shape\n",
    "    candidates = []\n",
    "    while len(candidates) < n:\n",
    "        y, x = np.random.randint(0, height), np.random.randint(0, width)\n",
    "        if mask[y, x] == UNDEFINED:\n",
    "            continue\n",
    "        for y_n, x_n in neighbors_relative:\n",
    "            if y + y_n < 0 or y + y_n >= height or x + x_n < 0 or x + x_n >= width or mask[y + y_n, x + x_n] == UNDEFINED:\n",
    "                break\n",
    "        else:\n",
    "            candidates.append((y, x))\n",
    "    return candidates"
   ]
  },
  {
   "cell_type": "code",
   "execution_count": 6,
   "metadata": {},
   "outputs": [],
   "source": [
    "def sparse_l2(image: np.ndarray, origin: tuple, candidate: tuple, neighbors: list[tuple]) -> float:\n",
    "    origin_y, origin_x = origin\n",
    "    candidate_y, candidate_x = candidate\n",
    "    distance = 0\n",
    "    for neighbor_y, neighbor_x in neighbors:\n",
    "        distance += np.sum(np.power(image[origin_y + neighbor_y, origin_x + neighbor_x] - image[candidate_y + neighbor_y, candidate_x + neighbor_x], 2))\n",
    "\n",
    "    return np.sqrt(distance)"
   ]
  },
  {
   "cell_type": "code",
   "execution_count": 7,
   "metadata": {},
   "outputs": [],
   "source": [
    "def choose_candidate(image: np.ndarray, origin: tuple, candidates: list[tuple], neighbors: list[tuple]) -> tuple:\n",
    "    distances = []\n",
    "    for candidate in candidates:\n",
    "        distances.append(sparse_l2(image, origin, candidate, neighbors))\n",
    "\n",
    "    return candidates[np.argmin(distances)]"
   ]
  },
  {
   "cell_type": "code",
   "execution_count": 8,
   "metadata": {},
   "outputs": [],
   "source": [
    "def choose_candidate_native_l2(image: np.ndarray, origin: tuple, candidates: list[tuple], neighbors: list[tuple]) -> tuple:\n",
    "    distances = []\n",
    "    for candidate in candidates:\n",
    "        distances.append(inpainting_functions.sparse_l2(image, origin, candidate, neighbors))\n",
    "    return candidates[np.argmin(distances)]"
   ]
  },
  {
   "cell_type": "code",
   "execution_count": 9,
   "metadata": {},
   "outputs": [],
   "source": [
    "def inpainting(image: np.ndarray, mask: np.ndarray, n_neighbors: int = 10, n_candidates: int = 100):\n",
    "    image[mask == UNDEFINED] = UNDEFINED\n",
    "    undefined_pixels = np.argwhere(mask == UNDEFINED).tolist()\n",
    "    iteration = 0\n",
    "    while undefined_pixels:\n",
    "        origin = random.choice(undefined_pixels)\n",
    "        pattern = create_pattern(mask, origin, n_neighbors)\n",
    "        candidates = generate_candidates(mask, pattern, n_candidates)\n",
    "        candidate = choose_candidate(image, origin, candidates, pattern)\n",
    "        image[origin[0], origin[1]] = image[candidate[0], candidate[1]]\n",
    "        undefined_pixels.remove(origin)\n",
    "\n",
    "        if iteration == 100:\n",
    "            break\n",
    "        if iteration % 100 == 0:\n",
    "            cv2.imwrite(f\"/tmp/inpainting/iteration{iteration:04}.png\", image)\n",
    "        iteration += 1\n",
    "    cv2.imwrite(f\"/tmp/inpainting/iteration{iteration:04}.png\", image)"
   ]
  },
  {
   "cell_type": "code",
   "execution_count": 10,
   "metadata": {},
   "outputs": [
    {
     "name": "stdout",
     "output_type": "stream",
     "text": [
      "Timer unit: 1e-09 s\n",
      "\n",
      "Total time: 0.955784 s\n",
      "File: /tmp/ipykernel_13795/2782660982.py\n",
      "Function: inpainting at line 1\n",
      "\n",
      "Line #      Hits         Time  Per Hit   % Time  Line Contents\n",
      "==============================================================\n",
      "     1                                           def inpainting(image: np.ndarray, mask: np.ndarray, n_neighbors: int = 10, n_candidates: int = 100):\n",
      "     2         1     350535.0 350535.0      0.0      image[mask == UNDEFINED] = UNDEFINED\n",
      "     3         1    2037930.0    2e+06      0.2      undefined_pixels = np.argwhere(mask == UNDEFINED).tolist()\n",
      "     4         1        531.0    531.0      0.0      iteration = 0\n",
      "     5       101      24716.0    244.7      0.0      while undefined_pixels:\n",
      "     6       101     277891.0   2751.4      0.0          origin = random.choice(undefined_pixels)\n",
      "     7       101    6425974.0  63623.5      0.7          pattern = create_pattern(mask, origin, n_neighbors)\n",
      "     8       101  225295832.0    2e+06     23.6          candidates = generate_candidates(mask, pattern, n_candidates)\n",
      "     9       101  713747904.0    7e+06     74.7          candidate = choose_candidate(image, origin, candidates, pattern)\n",
      "    10       101     170569.0   1688.8      0.0          image[origin[0], origin[1]] = image[candidate[0], candidate[1]]\n",
      "    11       101    3113341.0  30825.2      0.3          undefined_pixels.remove(origin)\n",
      "    12                                           \n",
      "    13       101      30766.0    304.6      0.0          if iteration == 100:\n",
      "    14         1        301.0    301.0      0.0              break\n",
      "    15       100      28103.0    281.0      0.0          if iteration % 100 == 0:\n",
      "    16         1    2999968.0    3e+06      0.3              cv2.imwrite(f\"/tmp/inpainting/iteration{iteration:04}.png\", image)\n",
      "    17       100      21423.0    214.2      0.0          iteration += 1\n",
      "    18         1    1258112.0    1e+06      0.1      cv2.imwrite(f\"/tmp/inpainting/iteration{iteration:04}.png\", image)"
     ]
    }
   ],
   "source": [
    "image01 = cv2.imread(\"data/image_01.jpg\")\n",
    "mask01 = cv2.imread(\"data/mask_01.png\", cv2.IMREAD_GRAYSCALE)\n",
    "\n",
    "%lprun -f inpainting inpainting(image01, mask01)"
   ]
  },
  {
   "cell_type": "code",
   "execution_count": 11,
   "metadata": {},
   "outputs": [
    {
     "name": "stdout",
     "output_type": "stream",
     "text": [
      "Timer unit: 1e-09 s\n",
      "\n",
      "Total time: 0.260648 s\n",
      "File: /tmp/ipykernel_13795/2995356549.py\n",
      "Function: inpainting_2 at line 1\n",
      "\n",
      "Line #      Hits         Time  Per Hit   % Time  Line Contents\n",
      "==============================================================\n",
      "     1                                           def inpainting_2(image: np.ndarray, mask: np.ndarray, n_neighbors: int = 10, n_candidates: int = 100):\n",
      "     2         1     213930.0 213930.0      0.1      image[mask == UNDEFINED] = UNDEFINED\n",
      "     3         1     441796.0 441796.0      0.2      undefined_pixels = np.argwhere(mask == UNDEFINED).tolist()\n",
      "     4         1        191.0    191.0      0.0      iteration = 0\n",
      "     5       101      21576.0    213.6      0.0      while undefined_pixels:\n",
      "     6       101     226244.0   2240.0      0.1          origin = random.choice(undefined_pixels)\n",
      "     7       101    4726865.0  46800.6      1.8          pattern = create_pattern(mask, origin, n_neighbors)\n",
      "     8       101  223596926.0    2e+06     85.8          candidates = generate_candidates(mask, pattern, n_candidates)\n",
      "     9       101   24654794.0 244106.9      9.5          candidate = choose_candidate_native_l2(image, origin, candidates, pattern)\n",
      "    10       101     224733.0   2225.1      0.1          image[origin[0], origin[1]] = image[candidate[0], candidate[1]]\n",
      "    11       101    3432164.0  33981.8      1.3          undefined_pixels.remove(origin)\n",
      "    12                                           \n",
      "    13       101      27510.0    272.4      0.0          if iteration == 100:\n",
      "    14         1        602.0    602.0      0.0              break\n",
      "    15       100      26219.0    262.2      0.0          if iteration % 100 == 0:\n",
      "    16         1    1252722.0    1e+06      0.5              cv2.imwrite(f\"/tmp/inpainting/iteration{iteration:04}.png\", image)\n",
      "    17       100      19245.0    192.4      0.0          iteration += 1\n",
      "    18         1    1782182.0    2e+06      0.7      cv2.imwrite(f\"/tmp/inpainting/iteration{iteration:04}.png\", image)"
     ]
    }
   ],
   "source": [
    "def inpainting_2(image: np.ndarray, mask: np.ndarray, n_neighbors: int = 10, n_candidates: int = 100):\n",
    "    image[mask == UNDEFINED] = UNDEFINED\n",
    "    undefined_pixels = np.argwhere(mask == UNDEFINED).tolist()\n",
    "    iteration = 0\n",
    "    while undefined_pixels:\n",
    "        origin = random.choice(undefined_pixels)\n",
    "        pattern = create_pattern(mask, origin, n_neighbors)\n",
    "        candidates = generate_candidates(mask, pattern, n_candidates)\n",
    "        candidate = choose_candidate_native_l2(image, origin, candidates, pattern)\n",
    "        image[origin[0], origin[1]] = image[candidate[0], candidate[1]]\n",
    "        undefined_pixels.remove(origin)\n",
    "\n",
    "        if iteration == 100:\n",
    "            break\n",
    "        if iteration % 100 == 0:\n",
    "            cv2.imwrite(f\"/tmp/inpainting/iteration{iteration:04}.png\", image)\n",
    "        iteration += 1\n",
    "    cv2.imwrite(f\"/tmp/inpainting/iteration{iteration:04}.png\", image)\n",
    "\n",
    "image01 = cv2.imread(\"data/image_01.jpg\")\n",
    "mask01 = cv2.imread(\"data/mask_01.png\", cv2.IMREAD_GRAYSCALE)\n",
    "%lprun -f inpainting_2 inpainting_2(image01, mask01)"
   ]
  },
  {
   "cell_type": "code",
   "execution_count": 12,
   "metadata": {},
   "outputs": [
    {
     "name": "stdout",
     "output_type": "stream",
     "text": [
      "Timer unit: 1e-09 s\n",
      "\n",
      "Total time: 0.0548954 s\n",
      "File: /tmp/ipykernel_13795/1648953004.py\n",
      "Function: inpainting_3 at line 1\n",
      "\n",
      "Line #      Hits         Time  Per Hit   % Time  Line Contents\n",
      "==============================================================\n",
      "     1                                           def inpainting_3(image: np.ndarray, mask: np.ndarray, n_neighbors: int = 10, n_candidates: int = 100):\n",
      "     2         1     152575.0 152575.0      0.3      image[mask == UNDEFINED] = UNDEFINED\n",
      "     3         1     427319.0 427319.0      0.8      undefined_pixels = np.argwhere(mask == UNDEFINED).tolist()\n",
      "     4         1        170.0    170.0      0.0      iteration = 0\n",
      "     5       101      33684.0    333.5      0.1      while undefined_pixels:\n",
      "     6       101     344608.0   3412.0      0.6          origin = random.choice(undefined_pixels)\n",
      "     7       101    6592953.0  65276.8     12.0          pattern = create_pattern(mask, origin, n_neighbors)\n",
      "     8       101    1667634.0  16511.2      3.0          candidates = inpainting_functions.generate_candidates(mask, pattern, n_candidates)\n",
      "     9       101   36600690.0 362383.1     66.7          candidate = choose_candidate_native_l2(image, origin, candidates, pattern)\n",
      "    10       101     247531.0   2450.8      0.5          image[origin[0], origin[1]] = image[candidate[0], candidate[1]]\n",
      "    11       101    4884795.0  48364.3      8.9          undefined_pixels.remove(origin)\n",
      "    12                                           \n",
      "    13       101      48506.0    480.3      0.1          if iteration == 100:\n",
      "    14         1        331.0    331.0      0.0              break\n",
      "    15       100      39463.0    394.6      0.1          if iteration % 100 == 0:\n",
      "    16         1    2545128.0    3e+06      4.6              cv2.imwrite(f\"/tmp/inpainting/iteration{iteration:04}.png\", image)\n",
      "    17       100      26921.0    269.2      0.0          iteration += 1\n",
      "    18         1    1283068.0    1e+06      2.3      cv2.imwrite(f\"/tmp/inpainting/iteration{iteration:04}.png\", image)"
     ]
    }
   ],
   "source": [
    "def inpainting_3(image: np.ndarray, mask: np.ndarray, n_neighbors: int = 10, n_candidates: int = 100):\n",
    "    image[mask == UNDEFINED] = UNDEFINED\n",
    "    undefined_pixels = np.argwhere(mask == UNDEFINED).tolist()\n",
    "    iteration = 0\n",
    "    while undefined_pixels:\n",
    "        origin = random.choice(undefined_pixels)\n",
    "        pattern = create_pattern(mask, origin, n_neighbors)\n",
    "        candidates = inpainting_functions.generate_candidates(mask, pattern, n_candidates)\n",
    "        candidate = choose_candidate_native_l2(image, origin, candidates, pattern)\n",
    "        image[origin[0], origin[1]] = image[candidate[0], candidate[1]]\n",
    "        undefined_pixels.remove(origin)\n",
    "\n",
    "        if iteration == 100:\n",
    "            break\n",
    "        if iteration % 100 == 0:\n",
    "            cv2.imwrite(f\"/tmp/inpainting/iteration{iteration:04}.png\", image)\n",
    "        iteration += 1\n",
    "    cv2.imwrite(f\"/tmp/inpainting/iteration{iteration:04}.png\", image)\n",
    "\n",
    "image01 = cv2.imread(\"data/image_01.jpg\")\n",
    "mask01 = cv2.imread(\"data/mask_01.png\", cv2.IMREAD_GRAYSCALE)\n",
    "%lprun -f inpainting_3 inpainting_3(image01, mask01)"
   ]
  },
  {
   "cell_type": "code",
   "execution_count": 19,
   "metadata": {},
   "outputs": [],
   "source": [
    "def inpainting_4(image: np.ndarray, mask: np.ndarray, n_neighbors: int = 10, n_candidates: int = 1000):\n",
    "    image[mask == UNDEFINED] = UNDEFINED\n",
    "    undefined_pixels = np.argwhere(mask == UNDEFINED).tolist()\n",
    "    iteration = 0\n",
    "    while undefined_pixels:\n",
    "        origin = random.choice(undefined_pixels)\n",
    "        pattern = create_pattern(mask, origin, n_neighbors)\n",
    "        candidates = inpainting_functions.generate_candidates(mask, pattern, n_candidates)\n",
    "        candidate = choose_candidate_native_l2(image, origin, candidates, pattern)\n",
    "        image[origin[0], origin[1]] = image[candidate[0], candidate[1]]\n",
    "        undefined_pixels.remove(origin)\n",
    "\n",
    "        if iteration % 100 == 0:\n",
    "            cv2.imwrite(f\"/tmp/inpainting/iteration{iteration:04}.png\", image)\n",
    "        iteration += 1\n",
    "    cv2.imwrite(f\"/tmp/inpainting/iteration{iteration:04}.png\", image)\n",
    "\n",
    "image = cv2.imread(\"data/1d.jpg\")\n",
    "mask = cv2.imread(\"data/mask_1.png\", cv2.IMREAD_GRAYSCALE)\n",
    "inpainting_4(image, mask, n_neighbors=10, n_candidates=1000)"
   ]
  }
 ],
 "metadata": {
  "kernelspec": {
   "display_name": "venv",
   "language": "python",
   "name": "python3"
  },
  "language_info": {
   "codemirror_mode": {
    "name": "ipython",
    "version": 3
   },
   "file_extension": ".py",
   "mimetype": "text/x-python",
   "name": "python",
   "nbconvert_exporter": "python",
   "pygments_lexer": "ipython3",
   "version": "3.12.3"
  }
 },
 "nbformat": 4,
 "nbformat_minor": 2
}
