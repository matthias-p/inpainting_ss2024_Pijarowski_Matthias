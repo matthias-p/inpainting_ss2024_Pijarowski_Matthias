{
 "cells": [
  {
   "cell_type": "code",
   "execution_count": 1,
   "metadata": {},
   "outputs": [],
   "source": [
    "%load_ext line_profiler"
   ]
  },
  {
   "cell_type": "code",
   "execution_count": 2,
   "metadata": {},
   "outputs": [],
   "source": [
    "import cv2\n",
    "import numpy as np\n",
    "import knn\n",
    "import inpainting_functions\n",
    "\n",
    "import random"
   ]
  },
  {
   "cell_type": "code",
   "execution_count": 3,
   "metadata": {},
   "outputs": [],
   "source": [
    "DEFINED = 0\n",
    "UNDEFINED = 255"
   ]
  },
  {
   "cell_type": "code",
   "execution_count": 4,
   "metadata": {},
   "outputs": [],
   "source": [
    "def create_pattern(mask: np.ndarray, origin: tuple, k: int) -> list[tuple]:\n",
    "    origin_y, origin_x = origin\n",
    "    neighbors = knn.nn_circular_native(mask, origin, k)\n",
    "    neighbors_relative = []\n",
    "    for y, x in neighbors:\n",
    "        neighbors_relative.append((y - origin_y, x - origin_x))\n",
    "    return neighbors_relative\n"
   ]
  },
  {
   "cell_type": "code",
   "execution_count": 5,
   "metadata": {},
   "outputs": [],
   "source": [
    "def generate_candidates(mask: np.ndarray, neighbors_relative: list[tuple], n: int) -> list[tuple]:\n",
    "    height, width = mask.shape\n",
    "    candidates = []\n",
    "    while len(candidates) < n:\n",
    "        y, x = np.random.randint(0, height), np.random.randint(0, width)\n",
    "        if mask[y, x] == UNDEFINED:\n",
    "            continue\n",
    "        for y_n, x_n in neighbors_relative:\n",
    "            if y + y_n < 0 or y + y_n >= height or x + x_n < 0 or x + x_n >= width or mask[y + y_n, x + x_n] == UNDEFINED:\n",
    "                break\n",
    "        else:\n",
    "            candidates.append((y, x))\n",
    "    return candidates"
   ]
  },
  {
   "cell_type": "code",
   "execution_count": 6,
   "metadata": {},
   "outputs": [],
   "source": [
    "def sparse_l2(image: np.ndarray, origin: tuple, candidate: tuple, neighbors: list[tuple]) -> float:\n",
    "    origin_y, origin_x = origin\n",
    "    candidate_y, candidate_x = candidate\n",
    "    distance = 0\n",
    "    for neighbor_y, neighbor_x in neighbors:\n",
    "        distance += np.sum(np.power(image[origin_y + neighbor_y, origin_x + neighbor_x] - image[candidate_y + neighbor_y, candidate_x + neighbor_x], 2))\n",
    "\n",
    "    return np.sqrt(distance)"
   ]
  },
  {
   "cell_type": "code",
   "execution_count": 7,
   "metadata": {},
   "outputs": [],
   "source": [
    "def choose_candidate(image: np.ndarray, origin: tuple, candidates: list[tuple], neighbors: list[tuple]) -> tuple:\n",
    "    distances = []\n",
    "    for candidate in candidates:\n",
    "        distances.append(sparse_l2(image, origin, candidate, neighbors))\n",
    "\n",
    "    return candidates[np.argmin(distances)]"
   ]
  },
  {
   "cell_type": "code",
   "execution_count": 8,
   "metadata": {},
   "outputs": [],
   "source": [
    "def choose_candidate_native_l2(image: np.ndarray, origin: tuple, candidates: list[tuple], neighbors: list[tuple]) -> tuple:\n",
    "    distances = []\n",
    "    for candidate in candidates:\n",
    "        distances.append(inpainting_functions.sparse_l2(image, origin, candidate, neighbors))\n",
    "    return candidates[np.argmin(distances)]"
   ]
  },
  {
   "cell_type": "code",
   "execution_count": 9,
   "metadata": {},
   "outputs": [],
   "source": [
    "def inpainting(image: np.ndarray, mask: np.ndarray, n_neighbors: int = 10, n_candidates: int = 100):\n",
    "    image[mask == UNDEFINED] = UNDEFINED\n",
    "    undefined_pixels = np.argwhere(mask == UNDEFINED).tolist()\n",
    "    iteration = 0\n",
    "    while undefined_pixels:\n",
    "        origin = random.choice(undefined_pixels)\n",
    "        pattern = create_pattern(mask, origin, n_neighbors)\n",
    "        candidates = generate_candidates(mask, pattern, n_candidates)\n",
    "        candidate = choose_candidate(image, origin, candidates, pattern)\n",
    "        image[origin[0], origin[1]] = image[candidate[0], candidate[1]]\n",
    "        undefined_pixels.remove(origin)\n",
    "\n",
    "        if iteration == 100:\n",
    "            break\n",
    "        if iteration % 100 == 0:\n",
    "            cv2.imwrite(f\"/tmp/inpainting/iteration{iteration:04}.png\", image)\n",
    "        iteration += 1\n",
    "    cv2.imwrite(f\"/tmp/inpainting/iteration{iteration:04}.png\", image)"
   ]
  },
  {
   "cell_type": "code",
   "execution_count": 10,
   "metadata": {},
   "outputs": [
    {
     "name": "stdout",
     "output_type": "stream",
     "text": [
      "Timer unit: 1e-09 s\n",
      "\n",
      "Total time: 0.979615 s\n",
      "File: /tmp/ipykernel_13553/2782660982.py\n",
      "Function: inpainting at line 1\n",
      "\n",
      "Line #      Hits         Time  Per Hit   % Time  Line Contents\n",
      "==============================================================\n",
      "     1                                           def inpainting(image: np.ndarray, mask: np.ndarray, n_neighbors: int = 10, n_candidates: int = 100):\n",
      "     2         1     185958.0 185958.0      0.0      image[mask == UNDEFINED] = UNDEFINED\n",
      "     3         1    1452227.0    1e+06      0.1      undefined_pixels = np.argwhere(mask == UNDEFINED).tolist()\n",
      "     4         1        260.0    260.0      0.0      iteration = 0\n",
      "     5       101      26196.0    259.4      0.0      while undefined_pixels:\n",
      "     6       101     315827.0   3127.0      0.0          origin = random.choice(undefined_pixels)\n",
      "     7       101    6220276.0  61586.9      0.6          pattern = create_pattern(mask, origin, n_neighbors)\n",
      "     8       101  231040709.0    2e+06     23.6          candidates = generate_candidates(mask, pattern, n_candidates)\n",
      "     9       101  733532928.0    7e+06     74.9          candidate = choose_candidate(image, origin, candidates, pattern)\n",
      "    10       101     187219.0   1853.7      0.0          image[origin[0], origin[1]] = image[candidate[0], candidate[1]]\n",
      "    11       101    3178867.0  31473.9      0.3          undefined_pixels.remove(origin)\n",
      "    12                                           \n",
      "    13       101      31670.0    313.6      0.0          if iteration == 100:\n",
      "    14         1        341.0    341.0      0.0              break\n",
      "    15       100      27526.0    275.3      0.0          if iteration % 100 == 0:\n",
      "    16         1    1973953.0    2e+06      0.2              cv2.imwrite(f\"/tmp/inpainting/iteration{iteration:04}.png\", image)\n",
      "    17       100      21822.0    218.2      0.0          iteration += 1\n",
      "    18         1    1419686.0    1e+06      0.1      cv2.imwrite(f\"/tmp/inpainting/iteration{iteration:04}.png\", image)"
     ]
    }
   ],
   "source": [
    "image01 = cv2.imread(\"data/image_01.jpg\")\n",
    "mask01 = cv2.imread(\"data/mask_01.png\", cv2.IMREAD_GRAYSCALE)\n",
    "\n",
    "%lprun -f inpainting inpainting(image01, mask01)"
   ]
  },
  {
   "cell_type": "code",
   "execution_count": 11,
   "metadata": {},
   "outputs": [
    {
     "name": "stdout",
     "output_type": "stream",
     "text": [
      "Timer unit: 1e-09 s\n",
      "\n",
      "Total time: 0.267635 s\n",
      "File: /tmp/ipykernel_13553/2995356549.py\n",
      "Function: inpainting_2 at line 1\n",
      "\n",
      "Line #      Hits         Time  Per Hit   % Time  Line Contents\n",
      "==============================================================\n",
      "     1                                           def inpainting_2(image: np.ndarray, mask: np.ndarray, n_neighbors: int = 10, n_candidates: int = 100):\n",
      "     2         1     165549.0 165549.0      0.1      image[mask == UNDEFINED] = UNDEFINED\n",
      "     3         1     451003.0 451003.0      0.2      undefined_pixels = np.argwhere(mask == UNDEFINED).tolist()\n",
      "     4         1        181.0    181.0      0.0      iteration = 0\n",
      "     5       101      22137.0    219.2      0.0      while undefined_pixels:\n",
      "     6       101     241091.0   2387.0      0.1          origin = random.choice(undefined_pixels)\n",
      "     7       101    5120022.0  50693.3      1.9          pattern = create_pattern(mask, origin, n_neighbors)\n",
      "     8       101  230452776.0    2e+06     86.1          candidates = generate_candidates(mask, pattern, n_candidates)\n",
      "     9       101   24998369.0 247508.6      9.3          candidate = choose_candidate_native_l2(image, origin, candidates, pattern)\n",
      "    10       101     169073.0   1674.0      0.1          image[origin[0], origin[1]] = image[candidate[0], candidate[1]]\n",
      "    11       101    3308332.0  32755.8      1.2          undefined_pixels.remove(origin)\n",
      "    12                                           \n",
      "    13       101      29160.0    288.7      0.0          if iteration == 100:\n",
      "    14         1        471.0    471.0      0.0              break\n",
      "    15       100      26264.0    262.6      0.0          if iteration % 100 == 0:\n",
      "    16         1    1275807.0    1e+06      0.5              cv2.imwrite(f\"/tmp/inpainting/iteration{iteration:04}.png\", image)\n",
      "    17       100      18778.0    187.8      0.0          iteration += 1\n",
      "    18         1    1356308.0    1e+06      0.5      cv2.imwrite(f\"/tmp/inpainting/iteration{iteration:04}.png\", image)"
     ]
    }
   ],
   "source": [
    "def inpainting_2(image: np.ndarray, mask: np.ndarray, n_neighbors: int = 10, n_candidates: int = 100):\n",
    "    image[mask == UNDEFINED] = UNDEFINED\n",
    "    undefined_pixels = np.argwhere(mask == UNDEFINED).tolist()\n",
    "    iteration = 0\n",
    "    while undefined_pixels:\n",
    "        origin = random.choice(undefined_pixels)\n",
    "        pattern = create_pattern(mask, origin, n_neighbors)\n",
    "        candidates = generate_candidates(mask, pattern, n_candidates)\n",
    "        candidate = choose_candidate_native_l2(image, origin, candidates, pattern)\n",
    "        image[origin[0], origin[1]] = image[candidate[0], candidate[1]]\n",
    "        undefined_pixels.remove(origin)\n",
    "\n",
    "        if iteration == 100:\n",
    "            break\n",
    "        if iteration % 100 == 0:\n",
    "            cv2.imwrite(f\"/tmp/inpainting/iteration{iteration:04}.png\", image)\n",
    "        iteration += 1\n",
    "    cv2.imwrite(f\"/tmp/inpainting/iteration{iteration:04}.png\", image)\n",
    "\n",
    "image01 = cv2.imread(\"data/image_01.jpg\")\n",
    "mask01 = cv2.imread(\"data/mask_01.png\", cv2.IMREAD_GRAYSCALE)\n",
    "%lprun -f inpainting_2 inpainting_2(image01, mask01)"
   ]
  },
  {
   "cell_type": "code",
   "execution_count": 12,
   "metadata": {},
   "outputs": [
    {
     "name": "stdout",
     "output_type": "stream",
     "text": [
      "Timer unit: 1e-09 s\n",
      "\n",
      "Total time: 0.0390832 s\n",
      "File: /tmp/ipykernel_13553/1648953004.py\n",
      "Function: inpainting_3 at line 1\n",
      "\n",
      "Line #      Hits         Time  Per Hit   % Time  Line Contents\n",
      "==============================================================\n",
      "     1                                           def inpainting_3(image: np.ndarray, mask: np.ndarray, n_neighbors: int = 10, n_candidates: int = 100):\n",
      "     2         1     203631.0 203631.0      0.5      image[mask == UNDEFINED] = UNDEFINED\n",
      "     3         1     430586.0 430586.0      1.1      undefined_pixels = np.argwhere(mask == UNDEFINED).tolist()\n",
      "     4         1        180.0    180.0      0.0      iteration = 0\n",
      "     5       101      24321.0    240.8      0.1      while undefined_pixels:\n",
      "     6       101     225457.0   2232.2      0.6          origin = random.choice(undefined_pixels)\n",
      "     7       101    4731608.0  46847.6     12.1          pattern = create_pattern(mask, origin, n_neighbors)\n",
      "     8       101    1191398.0  11796.0      3.0          candidates = inpainting_functions.generate_candidates(mask, pattern, n_candidates)\n",
      "     9       101   25900142.0 256437.0     66.3          candidate = choose_candidate_native_l2(image, origin, candidates, pattern)\n",
      "    10       101     144966.0   1435.3      0.4          image[origin[0], origin[1]] = image[candidate[0], candidate[1]]\n",
      "    11       101    3491963.0  34573.9      8.9          undefined_pixels.remove(origin)\n",
      "    12                                           \n",
      "    13       101      28987.0    287.0      0.1          if iteration == 100:\n",
      "    14         1        410.0    410.0      0.0              break\n",
      "    15       100      24859.0    248.6      0.1          if iteration % 100 == 0:\n",
      "    16         1    1330278.0    1e+06      3.4              cv2.imwrite(f\"/tmp/inpainting/iteration{iteration:04}.png\", image)\n",
      "    17       100      18263.0    182.6      0.0          iteration += 1\n",
      "    18         1    1336179.0    1e+06      3.4      cv2.imwrite(f\"/tmp/inpainting/iteration{iteration:04}.png\", image)"
     ]
    }
   ],
   "source": [
    "def inpainting_3(image: np.ndarray, mask: np.ndarray, n_neighbors: int = 10, n_candidates: int = 100):\n",
    "    image[mask == UNDEFINED] = UNDEFINED\n",
    "    undefined_pixels = np.argwhere(mask == UNDEFINED).tolist()\n",
    "    iteration = 0\n",
    "    while undefined_pixels:\n",
    "        origin = random.choice(undefined_pixels)\n",
    "        pattern = create_pattern(mask, origin, n_neighbors)\n",
    "        candidates = inpainting_functions.generate_candidates(mask, pattern, n_candidates)\n",
    "        candidate = choose_candidate_native_l2(image, origin, candidates, pattern)\n",
    "        image[origin[0], origin[1]] = image[candidate[0], candidate[1]]\n",
    "        undefined_pixels.remove(origin)\n",
    "\n",
    "        if iteration == 100:\n",
    "            break\n",
    "        if iteration % 100 == 0:\n",
    "            cv2.imwrite(f\"/tmp/inpainting/iteration{iteration:04}.png\", image)\n",
    "        iteration += 1\n",
    "    cv2.imwrite(f\"/tmp/inpainting/iteration{iteration:04}.png\", image)\n",
    "\n",
    "image01 = cv2.imread(\"data/image_01.jpg\")\n",
    "mask01 = cv2.imread(\"data/mask_01.png\", cv2.IMREAD_GRAYSCALE)\n",
    "%lprun -f inpainting_3 inpainting_3(image01, mask01)"
   ]
  },
  {
   "cell_type": "code",
   "execution_count": 14,
   "metadata": {},
   "outputs": [],
   "source": [
    "def inpainting_4(image: np.ndarray, mask: np.ndarray, n_neighbors: int = 10, n_candidates: int = 1000):\n",
    "    image[mask == UNDEFINED] = UNDEFINED\n",
    "    undefined_pixels = np.argwhere(mask == UNDEFINED).tolist()\n",
    "    iteration = 0\n",
    "    while undefined_pixels:\n",
    "        origin = random.choice(undefined_pixels)\n",
    "        pattern = create_pattern(mask, origin, n_neighbors)\n",
    "        candidates = inpainting_functions.generate_candidates(mask, pattern, n_candidates)\n",
    "        candidate = choose_candidate_native_l2(image, origin, candidates, pattern)\n",
    "        image[origin[0], origin[1]] = image[candidate[0], candidate[1]]\n",
    "        undefined_pixels.remove(origin)\n",
    "\n",
    "        if iteration % 100 == 0:\n",
    "            cv2.imwrite(f\"/tmp/inpainting/iteration{iteration:04}.png\", image)\n",
    "        iteration += 1\n",
    "    cv2.imwrite(f\"/tmp/inpainting/iteration{iteration:04}.png\", image)\n",
    "\n",
    "image = cv2.imread(\"data/1d.jpg\")\n",
    "mask = cv2.imread(\"data/mask_1.png\", cv2.IMREAD_GRAYSCALE)\n",
    "inpainting_4(image, mask)"
   ]
  }
 ],
 "metadata": {
  "kernelspec": {
   "display_name": "venv",
   "language": "python",
   "name": "python3"
  },
  "language_info": {
   "codemirror_mode": {
    "name": "ipython",
    "version": 3
   },
   "file_extension": ".py",
   "mimetype": "text/x-python",
   "name": "python",
   "nbconvert_exporter": "python",
   "pygments_lexer": "ipython3",
   "version": "3.12.3"
  }
 },
 "nbformat": 4,
 "nbformat_minor": 2
}
