{
 "cells": [
  {
   "cell_type": "code",
   "execution_count": 1,
   "metadata": {},
   "outputs": [],
   "source": [
    "%load_ext line_profiler"
   ]
  },
  {
   "cell_type": "code",
   "execution_count": 2,
   "metadata": {},
   "outputs": [],
   "source": [
    "import cv2\n",
    "import numpy as np\n",
    "import knn\n",
    "\n",
    "import random"
   ]
  },
  {
   "cell_type": "code",
   "execution_count": 3,
   "metadata": {},
   "outputs": [],
   "source": [
    "DEFINED = 0\n",
    "UNDEFINED = 255"
   ]
  },
  {
   "cell_type": "code",
   "execution_count": 5,
   "metadata": {},
   "outputs": [],
   "source": [
    "def create_pattern(mask: np.ndarray, origin: tuple, k: int) -> list[tuple]:\n",
    "    origin_y, origin_x = origin\n",
    "    neighbors = knn.nn_circular_native(mask, origin, k)\n",
    "    neighbors_relative = []\n",
    "    for y, x in neighbors:\n",
    "        neighbors_relative.append((y - origin_y, x - origin_x))\n",
    "    return neighbors_relative\n"
   ]
  },
  {
   "cell_type": "code",
   "execution_count": 7,
   "metadata": {},
   "outputs": [],
   "source": [
    "def generate_candidates(mask: np.ndarray, neighbors_relative: list[tuple], n: int) -> list[tuple]:\n",
    "    height, width = mask.shape\n",
    "    candidates = []\n",
    "    while len(candidates) < n:\n",
    "        y, x = np.random.randint(0, height), np.random.randint(0, width)\n",
    "        if mask[y, x] == UNDEFINED:\n",
    "            continue\n",
    "        for y_n, x_n in neighbors_relative:\n",
    "            if y + y_n < 0 or y + y_n >= height or x + x_n < 0 or x + x_n >= width or mask[y + y_n, x + x_n] == UNDEFINED:\n",
    "                break\n",
    "        else:\n",
    "            candidates.append((y, x))\n",
    "    return candidates"
   ]
  },
  {
   "cell_type": "code",
   "execution_count": 8,
   "metadata": {},
   "outputs": [],
   "source": [
    "def choose_candidate(image: np.ndarray, origin: tuple, candidates: list[tuple], neighbors: list[tuple]) -> tuple:\n",
    "    origin_y, origin_x = origin\n",
    "    distances = []\n",
    "    for candidate_y, candidate_x in candidates:\n",
    "        distance = 0\n",
    "        for neighbor_y, neighbor_x in neighbors:\n",
    "            distance += np.sqrt(np.sum(np.power(image[origin_y + neighbor_y, origin_x + neighbor_x] - image[candidate_y + neighbor_y, candidate_x + neighbor_x], 2)))\n",
    "        distances.append(distance)\n",
    "    return candidates[np.argmin(distances)]"
   ]
  },
  {
   "cell_type": "code",
   "execution_count": 18,
   "metadata": {},
   "outputs": [],
   "source": [
    "def inpainting(image: np.ndarray, mask: np.ndarray, n_neighbors: int = 10, n_candidates: int = 100):\n",
    "    image[mask == UNDEFINED] = UNDEFINED\n",
    "    undefined_pixels = np.argwhere(mask == UNDEFINED).tolist()\n",
    "    iteration = 0\n",
    "    while undefined_pixels:\n",
    "        origin = random.choice(undefined_pixels)\n",
    "        pattern = create_pattern(mask, origin, n_neighbors)\n",
    "        candidates = generate_candidates(mask, pattern, n_candidates)\n",
    "        candidate = choose_candidate(image, origin, candidates, pattern)\n",
    "        image[origin[0], origin[1]] = image[candidate[0], candidate[1]]\n",
    "        undefined_pixels.remove(origin)\n",
    "\n",
    "        if iteration == 100:\n",
    "            break\n",
    "        if iteration % 100 == 0:\n",
    "            cv2.imwrite(f\"/tmp/inpainting/iteration{iteration:04}.png\", image)\n",
    "        iteration += 1\n",
    "    cv2.imwrite(f\"/tmp/inpainting/iteration{iteration:04}.png\", image)"
   ]
  },
  {
   "cell_type": "code",
   "execution_count": 20,
   "metadata": {},
   "outputs": [
    {
     "name": "stdout",
     "output_type": "stream",
     "text": [
      "Timer unit: 1e-09 s\n",
      "\n",
      "Total time: 0.480802 s\n",
      "File: /tmp/ipykernel_83585/2782660982.py\n",
      "Function: inpainting at line 1\n",
      "\n",
      "Line #      Hits         Time  Per Hit   % Time  Line Contents\n",
      "==============================================================\n",
      "     1                                           def inpainting(image: np.ndarray, mask: np.ndarray, n_neighbors: int = 10, n_candidates: int = 100):\n",
      "     2         1     164928.0 164928.0      0.0      image[mask == UNDEFINED] = UNDEFINED\n",
      "     3         1    1360194.0    1e+06      0.3      undefined_pixels = np.argwhere(mask == UNDEFINED).tolist()\n",
      "     4         1        300.0    300.0      0.0      iteration = 0\n",
      "     5       101      24121.0    238.8      0.0      while undefined_pixels:\n",
      "     6       101     304045.0   3010.3      0.1          origin = random.choice(undefined_pixels)\n",
      "     7       101    4956859.0  49077.8      1.0          pattern = create_pattern(mask, origin, n_neighbors)\n",
      "     8       101  137572039.0    1e+06     28.6          candidates = generate_candidates(mask, pattern, n_candidates)\n",
      "     9       101  329569932.0    3e+06     68.5          candidate = choose_candidate(image, origin, candidates, pattern)\n",
      "    10       101     173036.0   1713.2      0.0          image[origin[0], origin[1]] = image[candidate[0], candidate[1]]\n",
      "    11       101    3839944.0  38019.2      0.8          undefined_pixels.remove(origin)\n",
      "    12                                           \n",
      "    13       101      30758.0    304.5      0.0          if iteration == 100:\n",
      "    14         1        210.0    210.0      0.0              break\n",
      "    15       100      26837.0    268.4      0.0          if iteration % 100 == 0:\n",
      "    16         1    1351006.0    1e+06      0.3              cv2.imwrite(f\"/tmp/inpainting/iteration{iteration:04}.png\", image)\n",
      "    17       100      21633.0    216.3      0.0          iteration += 1\n",
      "    18         1    1406410.0    1e+06      0.3      cv2.imwrite(f\"/tmp/inpainting/iteration{iteration:04}.png\", image)"
     ]
    }
   ],
   "source": [
    "image01 = cv2.imread(\"data/image_01.jpg\")\n",
    "mask01 = cv2.imread(\"data/mask_01.png\", cv2.IMREAD_GRAYSCALE)\n",
    "\n",
    "%lprun -f inpainting inpainting(image01, mask01)"
   ]
  }
 ],
 "metadata": {
  "kernelspec": {
   "display_name": "venv",
   "language": "python",
   "name": "python3"
  },
  "language_info": {
   "codemirror_mode": {
    "name": "ipython",
    "version": 3
   },
   "file_extension": ".py",
   "mimetype": "text/x-python",
   "name": "python",
   "nbconvert_exporter": "python",
   "pygments_lexer": "ipython3",
   "version": "3.12.3"
  }
 },
 "nbformat": 4,
 "nbformat_minor": 2
}
