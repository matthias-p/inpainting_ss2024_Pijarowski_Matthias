{
 "cells": [
  {
   "cell_type": "code",
   "execution_count": 1,
   "metadata": {},
   "outputs": [],
   "source": [
    "%load_ext line_profiler"
   ]
  },
  {
   "cell_type": "code",
   "execution_count": 2,
   "metadata": {},
   "outputs": [],
   "source": [
    "import cv2\n",
    "import numpy as np\n",
    "import knn\n",
    "import inpainting_functions\n",
    "\n",
    "import random"
   ]
  },
  {
   "cell_type": "code",
   "execution_count": 3,
   "metadata": {},
   "outputs": [],
   "source": [
    "DEFINED = 0\n",
    "UNDEFINED = 255"
   ]
  },
  {
   "cell_type": "code",
   "execution_count": 4,
   "metadata": {},
   "outputs": [],
   "source": [
    "def create_pattern(mask: np.ndarray, origin: tuple, k: int) -> list[tuple]:\n",
    "    origin_y, origin_x = origin\n",
    "    neighbors = knn.nn_circular_native(mask, origin, k)\n",
    "    neighbors_relative = []\n",
    "    for y, x in neighbors:\n",
    "        neighbors_relative.append((y - origin_y, x - origin_x))\n",
    "    return neighbors_relative\n"
   ]
  },
  {
   "cell_type": "code",
   "execution_count": 5,
   "metadata": {},
   "outputs": [],
   "source": [
    "def generate_candidates(mask: np.ndarray, neighbors_relative: list[tuple], n: int) -> list[tuple]:\n",
    "    height, width = mask.shape\n",
    "    candidates = []\n",
    "    while len(candidates) < n:\n",
    "        y, x = np.random.randint(0, height), np.random.randint(0, width)\n",
    "        if mask[y, x] == UNDEFINED:\n",
    "            continue\n",
    "        for y_n, x_n in neighbors_relative:\n",
    "            if y + y_n < 0 or y + y_n >= height or x + x_n < 0 or x + x_n >= width or mask[y + y_n, x + x_n] == UNDEFINED:\n",
    "                break\n",
    "        else:\n",
    "            candidates.append((y, x))\n",
    "    return candidates"
   ]
  },
  {
   "cell_type": "code",
   "execution_count": 6,
   "metadata": {},
   "outputs": [],
   "source": [
    "def sparse_l2(image: np.ndarray, origin: tuple, candidate: tuple, neighbors: list[tuple]) -> float:\n",
    "    origin_y, origin_x = origin\n",
    "    candidate_y, candidate_x = candidate\n",
    "    distance = 0\n",
    "    for neighbor_y, neighbor_x in neighbors:\n",
    "        distance += np.sum(np.power(image[origin_y + neighbor_y, origin_x + neighbor_x] - image[candidate_y + neighbor_y, candidate_x + neighbor_x], 2))\n",
    "\n",
    "    return np.sqrt(distance)"
   ]
  },
  {
   "cell_type": "code",
   "execution_count": 7,
   "metadata": {},
   "outputs": [],
   "source": [
    "def choose_candidate(image: np.ndarray, origin: tuple, candidates: list[tuple], neighbors: list[tuple]) -> tuple:\n",
    "    distances = []\n",
    "    for candidate in candidates:\n",
    "        distances.append(sparse_l2(image, origin, candidate, neighbors))\n",
    "\n",
    "    return candidates[np.argmin(distances)]"
   ]
  },
  {
   "cell_type": "code",
   "execution_count": 8,
   "metadata": {},
   "outputs": [],
   "source": [
    "def choose_candidate_native_l2(image: np.ndarray, origin: tuple, candidates: list[tuple], neighbors: list[tuple]) -> tuple:\n",
    "    distances = []\n",
    "    for candidate in candidates:\n",
    "        distances.append(inpainting_functions.sparse_l2(image, origin, candidate, neighbors))\n",
    "    return candidates[np.argmin(distances)]"
   ]
  },
  {
   "cell_type": "code",
   "execution_count": 9,
   "metadata": {},
   "outputs": [],
   "source": [
    "def inpainting(image: np.ndarray, mask: np.ndarray, n_neighbors: int = 10, n_candidates: int = 100):\n",
    "    image[mask == UNDEFINED] = UNDEFINED\n",
    "    undefined_pixels = np.argwhere(mask == UNDEFINED).tolist()\n",
    "    iteration = 0\n",
    "    while undefined_pixels:\n",
    "        origin = random.choice(undefined_pixels)\n",
    "        pattern = create_pattern(mask, origin, n_neighbors)\n",
    "        candidates = generate_candidates(mask, pattern, n_candidates)\n",
    "        candidate = choose_candidate(image, origin, candidates, pattern)\n",
    "        image[origin[0], origin[1]] = image[candidate[0], candidate[1]]\n",
    "        undefined_pixels.remove(origin)\n",
    "\n",
    "        if iteration == 100:\n",
    "            break\n",
    "        if iteration % 100 == 0:\n",
    "            cv2.imwrite(f\"/tmp/inpainting/iteration{iteration:04}.png\", image)\n",
    "        iteration += 1\n",
    "    cv2.imwrite(f\"/tmp/inpainting/iteration{iteration:04}.png\", image)"
   ]
  },
  {
   "cell_type": "code",
   "execution_count": 10,
   "metadata": {},
   "outputs": [
    {
     "name": "stdout",
     "output_type": "stream",
     "text": [
      "Timer unit: 1e-09 s\n",
      "\n",
      "Total time: 0.937204 s\n",
      "File: /tmp/ipykernel_5123/2782660982.py\n",
      "Function: inpainting at line 1\n",
      "\n",
      "Line #      Hits         Time  Per Hit   % Time  Line Contents\n",
      "==============================================================\n",
      "     1                                           def inpainting(image: np.ndarray, mask: np.ndarray, n_neighbors: int = 10, n_candidates: int = 100):\n",
      "     2         1     287346.0 287346.0      0.0      image[mask == UNDEFINED] = UNDEFINED\n",
      "     3         1    1259898.0    1e+06      0.1      undefined_pixels = np.argwhere(mask == UNDEFINED).tolist()\n",
      "     4         1        221.0    221.0      0.0      iteration = 0\n",
      "     5       101      20530.0    203.3      0.0      while undefined_pixels:\n",
      "     6       101     233133.0   2308.2      0.0          origin = random.choice(undefined_pixels)\n",
      "     7       101    5549639.0  54946.9      0.6          pattern = create_pattern(mask, origin, n_neighbors)\n",
      "     8       101  222297433.0    2e+06     23.7          candidates = generate_candidates(mask, pattern, n_candidates)\n",
      "     9       101  703179439.0    7e+06     75.0          candidate = choose_candidate(image, origin, candidates, pattern)\n",
      "    10       101     143547.0   1421.3      0.0          image[origin[0], origin[1]] = image[candidate[0], candidate[1]]\n",
      "    11       101    3101492.0  30707.8      0.3          undefined_pixels.remove(origin)\n",
      "    12                                           \n",
      "    13       101      31425.0    311.1      0.0          if iteration == 100:\n",
      "    14         1        270.0    270.0      0.0              break\n",
      "    15       100      22984.0    229.8      0.0          if iteration % 100 == 0:\n",
      "    16         1    1040018.0    1e+06      0.1              cv2.imwrite(f\"/tmp/inpainting/iteration{iteration:04}.png\", image)\n",
      "    17       100      19251.0    192.5      0.0          iteration += 1\n",
      "    18         1      17613.0  17613.0      0.0      cv2.imwrite(f\"/tmp/inpainting/iteration{iteration:04}.png\", image)"
     ]
    }
   ],
   "source": [
    "image01 = cv2.imread(\"data/image_01.jpg\")\n",
    "mask01 = cv2.imread(\"data/mask_01.png\", cv2.IMREAD_GRAYSCALE)\n",
    "\n",
    "%lprun -f inpainting inpainting(image01, mask01)"
   ]
  },
  {
   "cell_type": "code",
   "execution_count": 11,
   "metadata": {},
   "outputs": [
    {
     "name": "stdout",
     "output_type": "stream",
     "text": [
      "Timer unit: 1e-09 s\n",
      "\n",
      "Total time: 0.25967 s\n",
      "File: /tmp/ipykernel_5123/2995356549.py\n",
      "Function: inpainting_2 at line 1\n",
      "\n",
      "Line #      Hits         Time  Per Hit   % Time  Line Contents\n",
      "==============================================================\n",
      "     1                                           def inpainting_2(image: np.ndarray, mask: np.ndarray, n_neighbors: int = 10, n_candidates: int = 100):\n",
      "     2         1     138258.0 138258.0      0.1      image[mask == UNDEFINED] = UNDEFINED\n",
      "     3         1     448325.0 448325.0      0.2      undefined_pixels = np.argwhere(mask == UNDEFINED).tolist()\n",
      "     4         1        180.0    180.0      0.0      iteration = 0\n",
      "     5       101      20835.0    206.3      0.0      while undefined_pixels:\n",
      "     6       101     225621.0   2233.9      0.1          origin = random.choice(undefined_pixels)\n",
      "     7       101    5013289.0  49636.5      1.9          pattern = create_pattern(mask, origin, n_neighbors)\n",
      "     8       101  226224765.0    2e+06     87.1          candidates = generate_candidates(mask, pattern, n_candidates)\n",
      "     9       101   24372317.0 241310.1      9.4          candidate = choose_candidate_native_l2(image, origin, candidates, pattern)\n",
      "    10       101     161921.0   1603.2      0.1          image[origin[0], origin[1]] = image[candidate[0], candidate[1]]\n",
      "    11       101    2954565.0  29253.1      1.1          undefined_pixels.remove(origin)\n",
      "    12                                           \n",
      "    13       101      34494.0    341.5      0.0          if iteration == 100:\n",
      "    14         1        351.0    351.0      0.0              break\n",
      "    15       100      24839.0    248.4      0.0          if iteration % 100 == 0:\n",
      "    16         1      15138.0  15138.0      0.0              cv2.imwrite(f\"/tmp/inpainting/iteration{iteration:04}.png\", image)\n",
      "    17       100      18489.0    184.9      0.0          iteration += 1\n",
      "    18         1      16380.0  16380.0      0.0      cv2.imwrite(f\"/tmp/inpainting/iteration{iteration:04}.png\", image)"
     ]
    }
   ],
   "source": [
    "def inpainting_2(image: np.ndarray, mask: np.ndarray, n_neighbors: int = 10, n_candidates: int = 100):\n",
    "    image[mask == UNDEFINED] = UNDEFINED\n",
    "    undefined_pixels = np.argwhere(mask == UNDEFINED).tolist()\n",
    "    iteration = 0\n",
    "    while undefined_pixels:\n",
    "        origin = random.choice(undefined_pixels)\n",
    "        pattern = create_pattern(mask, origin, n_neighbors)\n",
    "        candidates = generate_candidates(mask, pattern, n_candidates)\n",
    "        candidate = choose_candidate_native_l2(image, origin, candidates, pattern)\n",
    "        image[origin[0], origin[1]] = image[candidate[0], candidate[1]]\n",
    "        undefined_pixels.remove(origin)\n",
    "\n",
    "        if iteration == 100:\n",
    "            break\n",
    "        if iteration % 100 == 0:\n",
    "            cv2.imwrite(f\"/tmp/inpainting/iteration{iteration:04}.png\", image)\n",
    "        iteration += 1\n",
    "    cv2.imwrite(f\"/tmp/inpainting/iteration{iteration:04}.png\", image)\n",
    "\n",
    "image01 = cv2.imread(\"data/image_01.jpg\")\n",
    "mask01 = cv2.imread(\"data/mask_01.png\", cv2.IMREAD_GRAYSCALE)\n",
    "%lprun -f inpainting_2 inpainting_2(image01, mask01)"
   ]
  },
  {
   "cell_type": "code",
   "execution_count": 12,
   "metadata": {},
   "outputs": [
    {
     "name": "stdout",
     "output_type": "stream",
     "text": [
      "Timer unit: 1e-09 s\n",
      "\n",
      "Total time: 0.0292394 s\n",
      "File: /tmp/ipykernel_5123/479130006.py\n",
      "Function: choose_candidate_native_l2 at line 1\n",
      "\n",
      "Line #      Hits         Time  Per Hit   % Time  Line Contents\n",
      "==============================================================\n",
      "     1                                           def choose_candidate_native_l2(image: np.ndarray, origin: tuple, candidates: list[tuple], neighbors: list[tuple]) -> tuple:\n",
      "     2       101      18230.0    180.5      0.1      distances = []\n",
      "     3     10201    1449069.0    142.1      5.0      for candidate in candidates:\n",
      "     4     10100   26647594.0   2638.4     91.1          distances.append(inpainting_functions.sparse_l2(image, origin, candidate, neighbors))\n",
      "     5       101    1124487.0  11133.5      3.8      return candidates[np.argmin(distances)]"
     ]
    }
   ],
   "source": [
    "def inpainting_3(image: np.ndarray, mask: np.ndarray, n_neighbors: int = 10, n_candidates: int = 100):\n",
    "    image[mask == UNDEFINED] = UNDEFINED\n",
    "    undefined_pixels = np.argwhere(mask == UNDEFINED).tolist()\n",
    "    iteration = 0\n",
    "    while undefined_pixels:\n",
    "        origin = random.choice(undefined_pixels)\n",
    "        pattern = create_pattern(mask, origin, n_neighbors)\n",
    "        candidates = inpainting_functions.generate_candidates(mask, pattern, n_candidates)\n",
    "        candidate = choose_candidate_native_l2(image, origin, candidates, pattern)\n",
    "        image[origin[0], origin[1]] = image[candidate[0], candidate[1]]\n",
    "        undefined_pixels.remove(origin)\n",
    "\n",
    "        if iteration == 100:\n",
    "            break\n",
    "        if iteration % 100 == 0:\n",
    "            cv2.imwrite(f\"/tmp/inpainting/iteration{iteration:04}.png\", image)\n",
    "        iteration += 1\n",
    "    cv2.imwrite(f\"/tmp/inpainting/iteration{iteration:04}.png\", image)\n",
    "\n",
    "image01 = cv2.imread(\"data/image_01.jpg\")\n",
    "mask01 = cv2.imread(\"data/mask_01.png\", cv2.IMREAD_GRAYSCALE)\n",
    "%lprun -f inpainting_3 inpainting_3(image01, mask01)"
   ]
  },
  {
   "cell_type": "code",
   "execution_count": 19,
   "metadata": {},
   "outputs": [],
   "source": [
    "def inpainting_full(image: np.ndarray, mask: np.ndarray, n_neighbors: int = 10, n_candidates: int = 1000):\n",
    "    image[mask == UNDEFINED] = UNDEFINED\n",
    "    undefined_pixels = np.argwhere(mask == UNDEFINED).tolist()\n",
    "    iteration = 0\n",
    "    while undefined_pixels:\n",
    "        origin = random.choice(undefined_pixels)\n",
    "        pattern = create_pattern(mask, origin, n_neighbors)\n",
    "        candidates = inpainting_functions.generate_candidates(mask, pattern, n_candidates)\n",
    "        candidate = choose_candidate_native_l2(image, origin, candidates, pattern)\n",
    "        image[origin[0], origin[1]] = image[candidate[0], candidate[1]]\n",
    "        undefined_pixels.remove(origin)\n",
    "\n",
    "        if iteration % 100 == 0:\n",
    "            cv2.imwrite(f\"/tmp/inpainting/iteration{iteration:04}.png\", image)\n",
    "        iteration += 1\n",
    "    cv2.imwrite(f\"/tmp/inpainting/iteration{iteration:04}.png\", image)\n",
    "\n",
    "image = cv2.imread(\"data/1d.jpg\")\n",
    "mask = cv2.imread(\"data/mask_1.png\", cv2.IMREAD_GRAYSCALE)\n",
    "inpainting_full(image, mask, n_neighbors=10, n_candidates=1000)"
   ]
  }
 ],
 "metadata": {
  "kernelspec": {
   "display_name": "venv",
   "language": "python",
   "name": "python3"
  },
  "language_info": {
   "codemirror_mode": {
    "name": "ipython",
    "version": 3
   },
   "file_extension": ".py",
   "mimetype": "text/x-python",
   "name": "python",
   "nbconvert_exporter": "python",
   "pygments_lexer": "ipython3",
   "version": "3.12.3"
  }
 },
 "nbformat": 4,
 "nbformat_minor": 2
}
